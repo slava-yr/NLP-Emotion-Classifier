{
  "cells": [
    {
      "cell_type": "markdown",
      "id": "67c0cab8",
      "metadata": {
        "id": "67c0cab8"
      },
      "source": [
        "# Tarea Final NLP"
      ]
    },
    {
      "cell_type": "markdown",
      "id": "c9e70bb7",
      "metadata": {
        "id": "c9e70bb7"
      },
      "source": [
        "Autor: Salvador Yábar Reaño\n",
        "\n",
        "Estudio exploratorio de 3 modelos de clasificación de emociones. Dataset: https://github.com/fmplaza/EmoEvent/tree/master/splits\n"
      ]
    },
    {
      "cell_type": "markdown",
      "id": "82f6bd6c",
      "metadata": {
        "id": "82f6bd6c"
      },
      "source": [
        "### Importar dataset y librerías"
      ]
    },
    {
      "cell_type": "code",
      "execution_count": 22,
      "id": "spssetSDWqZ4",
      "metadata": {
        "colab": {
          "base_uri": "https://localhost:8080/"
        },
        "id": "spssetSDWqZ4",
        "outputId": "0304826b-e35a-4e0b-b274-186fca536b87"
      },
      "outputs": [
        {
          "name": "stdout",
          "output_type": "stream",
          "text": [
            "TF: 2.19.0\n",
            "GPUs: [PhysicalDevice(name='/physical_device:GPU:0', device_type='GPU')]\n"
          ]
        }
      ],
      "source": [
        "# Usar GPU para el entrenamiento de los modelos\n",
        "import tensorflow as tf\n",
        "print(\"TF:\", tf.__version__)\n",
        "print(\"GPUs:\", tf.config.list_physical_devices(\"GPU\"))\n",
        "from tensorflow.keras import mixed_precision\n",
        "mixed_precision.set_global_policy(\"mixed_float16\")\n"
      ]
    },
    {
      "cell_type": "code",
      "execution_count": 23,
      "id": "80ddfc10",
      "metadata": {
        "id": "80ddfc10"
      },
      "outputs": [],
      "source": [
        "import numpy as np\n",
        "import pandas as pd\n",
        "from sklearn.model_selection import train_test_split\n",
        "import matplotlib.pyplot as plt\n",
        "import seaborn as sns"
      ]
    },
    {
      "cell_type": "code",
      "execution_count": 24,
      "id": "81005da5",
      "metadata": {
        "colab": {
          "base_uri": "https://localhost:8080/",
          "height": 237
        },
        "id": "81005da5",
        "outputId": "fb50296c-9410-448a-b8c2-77d69d021f77"
      },
      "outputs": [
        {
          "data": {
            "application/vnd.google.colaboratory.intrinsic+json": {
              "summary": "{\n  \"name\": \"df\",\n  \"rows\": 8409,\n  \"fields\": [\n    {\n      \"column\": \"id\",\n      \"properties\": {\n        \"dtype\": \"number\",\n        \"std\": 2427,\n        \"min\": 1,\n        \"max\": 8409,\n        \"num_unique_values\": 8409,\n        \"samples\": [\n          4238,\n          7578,\n          4315\n        ],\n        \"semantic_type\": \"\",\n        \"description\": \"\"\n      }\n    },\n    {\n      \"column\": \"tweet\",\n      \"properties\": {\n        \"dtype\": \"string\",\n        \"num_unique_values\": 8409,\n        \"samples\": [\n          \"El USER jugando mal, golea 3-0 al USER  HASHTAG\",\n          \"HASHTAG HASHTAG \\u00bfPor qu\\u00e9 el Brexit, Bolsonaro, Trump, Orb\\u00e1n o Salvini en sus pa\\u00edses s\\u00ed y en Espa\\u00f1a Vox no? El argumento de que en esos pa\\u00edses hay gente muy mala, ignorante y fascista y en Espa\\u00f1a no hay tanta es demasiado simple.\",\n          \"Klopp es lo mejor que le haya podido suceder al Liverpool. Se ten\\u00eda que decir... HASHTAG\"\n        ],\n        \"semantic_type\": \"\",\n        \"description\": \"\"\n      }\n    },\n    {\n      \"column\": \"emotion\",\n      \"properties\": {\n        \"dtype\": \"category\",\n        \"num_unique_values\": 7,\n        \"samples\": [\n          \"sadness\",\n          \"anger\",\n          \"fear\"\n        ],\n        \"semantic_type\": \"\",\n        \"description\": \"\"\n      }\n    }\n  ]\n}",
              "type": "dataframe",
              "variable_name": "df"
            },
            "text/html": [
              "\n",
              "  <div id=\"df-fe5a1eb2-65e1-4d0e-a4fa-fa8c26f691d5\" class=\"colab-df-container\">\n",
              "    <div>\n",
              "<style scoped>\n",
              "    .dataframe tbody tr th:only-of-type {\n",
              "        vertical-align: middle;\n",
              "    }\n",
              "\n",
              "    .dataframe tbody tr th {\n",
              "        vertical-align: top;\n",
              "    }\n",
              "\n",
              "    .dataframe thead th {\n",
              "        text-align: right;\n",
              "    }\n",
              "</style>\n",
              "<table border=\"1\" class=\"dataframe\">\n",
              "  <thead>\n",
              "    <tr style=\"text-align: right;\">\n",
              "      <th></th>\n",
              "      <th>tweet</th>\n",
              "      <th>emotion</th>\n",
              "    </tr>\n",
              "    <tr>\n",
              "      <th>id</th>\n",
              "      <th></th>\n",
              "      <th></th>\n",
              "    </tr>\n",
              "  </thead>\n",
              "  <tbody>\n",
              "    <tr>\n",
              "      <th>1</th>\n",
              "      <td>Acabo de ver la gran pérdida que estamos tenie...</td>\n",
              "      <td>sadness</td>\n",
              "    </tr>\n",
              "    <tr>\n",
              "      <th>2</th>\n",
              "      <td>USER ¿A que vamos a reconstruir Notre Dame ant...</td>\n",
              "      <td>sadness</td>\n",
              "    </tr>\n",
              "    <tr>\n",
              "      <th>3</th>\n",
              "      <td>Desde ayer andan sufriendo por el incendio de ...</td>\n",
              "      <td>anger</td>\n",
              "    </tr>\n",
              "    <tr>\n",
              "      <th>4</th>\n",
              "      <td>Muy afectada -como muchísima gente- por lo ocu...</td>\n",
              "      <td>sadness</td>\n",
              "    </tr>\n",
              "    <tr>\n",
              "      <th>5</th>\n",
              "      <td>Es una mierda lo que paso en HASHTAG pero plea...</td>\n",
              "      <td>disgust</td>\n",
              "    </tr>\n",
              "  </tbody>\n",
              "</table>\n",
              "</div>\n",
              "    <div class=\"colab-df-buttons\">\n",
              "\n",
              "  <div class=\"colab-df-container\">\n",
              "    <button class=\"colab-df-convert\" onclick=\"convertToInteractive('df-fe5a1eb2-65e1-4d0e-a4fa-fa8c26f691d5')\"\n",
              "            title=\"Convert this dataframe to an interactive table.\"\n",
              "            style=\"display:none;\">\n",
              "\n",
              "  <svg xmlns=\"http://www.w3.org/2000/svg\" height=\"24px\" viewBox=\"0 -960 960 960\">\n",
              "    <path d=\"M120-120v-720h720v720H120Zm60-500h600v-160H180v160Zm220 220h160v-160H400v160Zm0 220h160v-160H400v160ZM180-400h160v-160H180v160Zm440 0h160v-160H620v160ZM180-180h160v-160H180v160Zm440 0h160v-160H620v160Z\"/>\n",
              "  </svg>\n",
              "    </button>\n",
              "\n",
              "  <style>\n",
              "    .colab-df-container {\n",
              "      display:flex;\n",
              "      gap: 12px;\n",
              "    }\n",
              "\n",
              "    .colab-df-convert {\n",
              "      background-color: #E8F0FE;\n",
              "      border: none;\n",
              "      border-radius: 50%;\n",
              "      cursor: pointer;\n",
              "      display: none;\n",
              "      fill: #1967D2;\n",
              "      height: 32px;\n",
              "      padding: 0 0 0 0;\n",
              "      width: 32px;\n",
              "    }\n",
              "\n",
              "    .colab-df-convert:hover {\n",
              "      background-color: #E2EBFA;\n",
              "      box-shadow: 0px 1px 2px rgba(60, 64, 67, 0.3), 0px 1px 3px 1px rgba(60, 64, 67, 0.15);\n",
              "      fill: #174EA6;\n",
              "    }\n",
              "\n",
              "    .colab-df-buttons div {\n",
              "      margin-bottom: 4px;\n",
              "    }\n",
              "\n",
              "    [theme=dark] .colab-df-convert {\n",
              "      background-color: #3B4455;\n",
              "      fill: #D2E3FC;\n",
              "    }\n",
              "\n",
              "    [theme=dark] .colab-df-convert:hover {\n",
              "      background-color: #434B5C;\n",
              "      box-shadow: 0px 1px 3px 1px rgba(0, 0, 0, 0.15);\n",
              "      filter: drop-shadow(0px 1px 2px rgba(0, 0, 0, 0.3));\n",
              "      fill: #FFFFFF;\n",
              "    }\n",
              "  </style>\n",
              "\n",
              "    <script>\n",
              "      const buttonEl =\n",
              "        document.querySelector('#df-fe5a1eb2-65e1-4d0e-a4fa-fa8c26f691d5 button.colab-df-convert');\n",
              "      buttonEl.style.display =\n",
              "        google.colab.kernel.accessAllowed ? 'block' : 'none';\n",
              "\n",
              "      async function convertToInteractive(key) {\n",
              "        const element = document.querySelector('#df-fe5a1eb2-65e1-4d0e-a4fa-fa8c26f691d5');\n",
              "        const dataTable =\n",
              "          await google.colab.kernel.invokeFunction('convertToInteractive',\n",
              "                                                    [key], {});\n",
              "        if (!dataTable) return;\n",
              "\n",
              "        const docLinkHtml = 'Like what you see? Visit the ' +\n",
              "          '<a target=\"_blank\" href=https://colab.research.google.com/notebooks/data_table.ipynb>data table notebook</a>'\n",
              "          + ' to learn more about interactive tables.';\n",
              "        element.innerHTML = '';\n",
              "        dataTable['output_type'] = 'display_data';\n",
              "        await google.colab.output.renderOutput(dataTable, element);\n",
              "        const docLink = document.createElement('div');\n",
              "        docLink.innerHTML = docLinkHtml;\n",
              "        element.appendChild(docLink);\n",
              "      }\n",
              "    </script>\n",
              "  </div>\n",
              "\n",
              "\n",
              "    <div id=\"df-15fee223-6027-42c2-a9cd-0b6f699314f2\">\n",
              "      <button class=\"colab-df-quickchart\" onclick=\"quickchart('df-15fee223-6027-42c2-a9cd-0b6f699314f2')\"\n",
              "                title=\"Suggest charts\"\n",
              "                style=\"display:none;\">\n",
              "\n",
              "<svg xmlns=\"http://www.w3.org/2000/svg\" height=\"24px\"viewBox=\"0 0 24 24\"\n",
              "     width=\"24px\">\n",
              "    <g>\n",
              "        <path d=\"M19 3H5c-1.1 0-2 .9-2 2v14c0 1.1.9 2 2 2h14c1.1 0 2-.9 2-2V5c0-1.1-.9-2-2-2zM9 17H7v-7h2v7zm4 0h-2V7h2v10zm4 0h-2v-4h2v4z\"/>\n",
              "    </g>\n",
              "</svg>\n",
              "      </button>\n",
              "\n",
              "<style>\n",
              "  .colab-df-quickchart {\n",
              "      --bg-color: #E8F0FE;\n",
              "      --fill-color: #1967D2;\n",
              "      --hover-bg-color: #E2EBFA;\n",
              "      --hover-fill-color: #174EA6;\n",
              "      --disabled-fill-color: #AAA;\n",
              "      --disabled-bg-color: #DDD;\n",
              "  }\n",
              "\n",
              "  [theme=dark] .colab-df-quickchart {\n",
              "      --bg-color: #3B4455;\n",
              "      --fill-color: #D2E3FC;\n",
              "      --hover-bg-color: #434B5C;\n",
              "      --hover-fill-color: #FFFFFF;\n",
              "      --disabled-bg-color: #3B4455;\n",
              "      --disabled-fill-color: #666;\n",
              "  }\n",
              "\n",
              "  .colab-df-quickchart {\n",
              "    background-color: var(--bg-color);\n",
              "    border: none;\n",
              "    border-radius: 50%;\n",
              "    cursor: pointer;\n",
              "    display: none;\n",
              "    fill: var(--fill-color);\n",
              "    height: 32px;\n",
              "    padding: 0;\n",
              "    width: 32px;\n",
              "  }\n",
              "\n",
              "  .colab-df-quickchart:hover {\n",
              "    background-color: var(--hover-bg-color);\n",
              "    box-shadow: 0 1px 2px rgba(60, 64, 67, 0.3), 0 1px 3px 1px rgba(60, 64, 67, 0.15);\n",
              "    fill: var(--button-hover-fill-color);\n",
              "  }\n",
              "\n",
              "  .colab-df-quickchart-complete:disabled,\n",
              "  .colab-df-quickchart-complete:disabled:hover {\n",
              "    background-color: var(--disabled-bg-color);\n",
              "    fill: var(--disabled-fill-color);\n",
              "    box-shadow: none;\n",
              "  }\n",
              "\n",
              "  .colab-df-spinner {\n",
              "    border: 2px solid var(--fill-color);\n",
              "    border-color: transparent;\n",
              "    border-bottom-color: var(--fill-color);\n",
              "    animation:\n",
              "      spin 1s steps(1) infinite;\n",
              "  }\n",
              "\n",
              "  @keyframes spin {\n",
              "    0% {\n",
              "      border-color: transparent;\n",
              "      border-bottom-color: var(--fill-color);\n",
              "      border-left-color: var(--fill-color);\n",
              "    }\n",
              "    20% {\n",
              "      border-color: transparent;\n",
              "      border-left-color: var(--fill-color);\n",
              "      border-top-color: var(--fill-color);\n",
              "    }\n",
              "    30% {\n",
              "      border-color: transparent;\n",
              "      border-left-color: var(--fill-color);\n",
              "      border-top-color: var(--fill-color);\n",
              "      border-right-color: var(--fill-color);\n",
              "    }\n",
              "    40% {\n",
              "      border-color: transparent;\n",
              "      border-right-color: var(--fill-color);\n",
              "      border-top-color: var(--fill-color);\n",
              "    }\n",
              "    60% {\n",
              "      border-color: transparent;\n",
              "      border-right-color: var(--fill-color);\n",
              "    }\n",
              "    80% {\n",
              "      border-color: transparent;\n",
              "      border-right-color: var(--fill-color);\n",
              "      border-bottom-color: var(--fill-color);\n",
              "    }\n",
              "    90% {\n",
              "      border-color: transparent;\n",
              "      border-bottom-color: var(--fill-color);\n",
              "    }\n",
              "  }\n",
              "</style>\n",
              "\n",
              "      <script>\n",
              "        async function quickchart(key) {\n",
              "          const quickchartButtonEl =\n",
              "            document.querySelector('#' + key + ' button');\n",
              "          quickchartButtonEl.disabled = true;  // To prevent multiple clicks.\n",
              "          quickchartButtonEl.classList.add('colab-df-spinner');\n",
              "          try {\n",
              "            const charts = await google.colab.kernel.invokeFunction(\n",
              "                'suggestCharts', [key], {});\n",
              "          } catch (error) {\n",
              "            console.error('Error during call to suggestCharts:', error);\n",
              "          }\n",
              "          quickchartButtonEl.classList.remove('colab-df-spinner');\n",
              "          quickchartButtonEl.classList.add('colab-df-quickchart-complete');\n",
              "        }\n",
              "        (() => {\n",
              "          let quickchartButtonEl =\n",
              "            document.querySelector('#df-15fee223-6027-42c2-a9cd-0b6f699314f2 button');\n",
              "          quickchartButtonEl.style.display =\n",
              "            google.colab.kernel.accessAllowed ? 'block' : 'none';\n",
              "        })();\n",
              "      </script>\n",
              "    </div>\n",
              "\n",
              "    </div>\n",
              "  </div>\n"
            ],
            "text/plain": [
              "                                                tweet  emotion\n",
              "id                                                            \n",
              "1   Acabo de ver la gran pérdida que estamos tenie...  sadness\n",
              "2   USER ¿A que vamos a reconstruir Notre Dame ant...  sadness\n",
              "3   Desde ayer andan sufriendo por el incendio de ...    anger\n",
              "4   Muy afectada -como muchísima gente- por lo ocu...  sadness\n",
              "5   Es una mierda lo que paso en HASHTAG pero plea...  disgust"
            ]
          },
          "execution_count": 24,
          "metadata": {},
          "output_type": "execute_result"
        }
      ],
      "source": [
        "df = pd.read_csv(\"emoevent_es.csv\", sep=None, engine='python', index_col=0) # Cargar dataset\n",
        "df = df.drop(columns=[\"offensive\"]) # Eliminar columna no necesaria\n",
        "df.head()"
      ]
    },
    {
      "cell_type": "markdown",
      "id": "03345e1e",
      "metadata": {
        "id": "03345e1e"
      },
      "source": [
        "Se observa la estructura del dataset. Se tienen las columnas 'tweet' y 'emotion'."
      ]
    },
    {
      "cell_type": "code",
      "execution_count": 25,
      "id": "c81961a0",
      "metadata": {
        "colab": {
          "base_uri": "https://localhost:8080/"
        },
        "id": "c81961a0",
        "outputId": "d61af503-ea09-424c-d518-2b13c740e008"
      },
      "outputs": [
        {
          "name": "stdout",
          "output_type": "stream",
          "text": [
            "<class 'pandas.core.frame.DataFrame'>\n",
            "Index: 8409 entries, 1 to 8409\n",
            "Data columns (total 2 columns):\n",
            " #   Column   Non-Null Count  Dtype \n",
            "---  ------   --------------  ----- \n",
            " 0   tweet    8409 non-null   object\n",
            " 1   emotion  8409 non-null   object\n",
            "dtypes: object(2)\n",
            "memory usage: 197.1+ KB\n"
          ]
        }
      ],
      "source": [
        "df.info() # Revisar cantidad de tweets y tipos de datos"
      ]
    },
    {
      "cell_type": "code",
      "execution_count": 26,
      "id": "6b6ef19e",
      "metadata": {
        "colab": {
          "base_uri": "https://localhost:8080/",
          "height": 335
        },
        "id": "6b6ef19e",
        "outputId": "1f551bde-5406-496f-9027-0b29a72aff63"
      },
      "outputs": [
        {
          "data": {
            "text/html": [
              "<div>\n",
              "<style scoped>\n",
              "    .dataframe tbody tr th:only-of-type {\n",
              "        vertical-align: middle;\n",
              "    }\n",
              "\n",
              "    .dataframe tbody tr th {\n",
              "        vertical-align: top;\n",
              "    }\n",
              "\n",
              "    .dataframe thead th {\n",
              "        text-align: right;\n",
              "    }\n",
              "</style>\n",
              "<table border=\"1\" class=\"dataframe\">\n",
              "  <thead>\n",
              "    <tr style=\"text-align: right;\">\n",
              "      <th></th>\n",
              "      <th>count</th>\n",
              "    </tr>\n",
              "    <tr>\n",
              "      <th>emotion</th>\n",
              "      <th></th>\n",
              "    </tr>\n",
              "  </thead>\n",
              "  <tbody>\n",
              "    <tr>\n",
              "      <th>others</th>\n",
              "      <td>4127</td>\n",
              "    </tr>\n",
              "    <tr>\n",
              "      <th>joy</th>\n",
              "      <td>1815</td>\n",
              "    </tr>\n",
              "    <tr>\n",
              "      <th>sadness</th>\n",
              "      <td>1009</td>\n",
              "    </tr>\n",
              "    <tr>\n",
              "      <th>anger</th>\n",
              "      <td>857</td>\n",
              "    </tr>\n",
              "    <tr>\n",
              "      <th>surprise</th>\n",
              "      <td>344</td>\n",
              "    </tr>\n",
              "    <tr>\n",
              "      <th>disgust</th>\n",
              "      <td>161</td>\n",
              "    </tr>\n",
              "    <tr>\n",
              "      <th>fear</th>\n",
              "      <td>96</td>\n",
              "    </tr>\n",
              "  </tbody>\n",
              "</table>\n",
              "</div><br><label><b>dtype:</b> int64</label>"
            ],
            "text/plain": [
              "emotion\n",
              "others      4127\n",
              "joy         1815\n",
              "sadness     1009\n",
              "anger        857\n",
              "surprise     344\n",
              "disgust      161\n",
              "fear          96\n",
              "Name: count, dtype: int64"
            ]
          },
          "execution_count": 26,
          "metadata": {},
          "output_type": "execute_result"
        }
      ],
      "source": [
        "df[\"emotion\"].value_counts()"
      ]
    },
    {
      "cell_type": "markdown",
      "id": "734e6687",
      "metadata": {
        "id": "734e6687"
      },
      "source": [
        "Emotion cuenta con 7 categorías: others, joy, sadness, anger, surprise, disgust y fear.\n",
        "\n",
        "Se observa una clara desproporción entre las clases, siendo la que menos ejemplos tiene la clase fear."
      ]
    },
    {
      "cell_type": "markdown",
      "id": "608218a4",
      "metadata": {
        "id": "608218a4"
      },
      "source": [
        "# Desarrollo"
      ]
    },
    {
      "cell_type": "markdown",
      "id": "c4078d71",
      "metadata": {
        "id": "c4078d71"
      },
      "source": [
        "Para el desarrollo de este estudio exploratorio se seleccionaron 3 enfoques diferentes, cada uno empleando una aproximación distinta al problema de clasificación.\n",
        "\n",
        "Se presentará el desarrollo de cada modelo, sus resultados y observaciones, y finalmente se compararán los resultados obtenidos entre los tres modelos.\n"
      ]
    },
    {
      "cell_type": "markdown",
      "id": "ed5a41f4",
      "metadata": {
        "id": "ed5a41f4"
      },
      "source": [
        "## Modelo 1: TF-IDF + Logistic Regression"
      ]
    },
    {
      "cell_type": "code",
      "execution_count": 27,
      "id": "2cb71df3",
      "metadata": {
        "id": "2cb71df3"
      },
      "outputs": [],
      "source": [
        "import nltk\n",
        "from nltk.corpus import stopwords\n",
        "from nltk.tokenize import ToktokTokenizer\n",
        "import re"
      ]
    },
    {
      "cell_type": "code",
      "execution_count": 28,
      "id": "844d15e2",
      "metadata": {
        "colab": {
          "base_uri": "https://localhost:8080/"
        },
        "id": "844d15e2",
        "outputId": "43885aed-62e6-4da7-dbc2-2f1bb2629588"
      },
      "outputs": [
        {
          "name": "stderr",
          "output_type": "stream",
          "text": [
            "[nltk_data] Downloading package stopwords to /root/nltk_data...\n",
            "[nltk_data]   Package stopwords is already up-to-date!\n"
          ]
        }
      ],
      "source": [
        "nltk.download(\"stopwords\")\n",
        "\n",
        "tokenizer = ToktokTokenizer() # Inicializar tokenizador\n",
        "stop_words = set(stopwords.words('spanish')) # stopwords en español"
      ]
    },
    {
      "cell_type": "code",
      "execution_count": 29,
      "id": "8d7cc426",
      "metadata": {
        "colab": {
          "base_uri": "https://localhost:8080/"
        },
        "id": "8d7cc426",
        "outputId": "615af03f-725f-4fd1-e360-3f1d488f513d"
      },
      "outputs": [
        {
          "name": "stderr",
          "output_type": "stream",
          "text": [
            "<>:2: SyntaxWarning: invalid escape sequence '\\.'\n",
            "<>:3: SyntaxWarning: invalid escape sequence '\\s'\n",
            "<>:2: SyntaxWarning: invalid escape sequence '\\.'\n",
            "<>:3: SyntaxWarning: invalid escape sequence '\\s'\n",
            "/tmp/ipython-input-762753864.py:2: SyntaxWarning: invalid escape sequence '\\.'\n",
            "  text = re.sub('((www\\.[^\\s]+)|(https?://[^\\s]+))','', str(text))\n",
            "/tmp/ipython-input-762753864.py:3: SyntaxWarning: invalid escape sequence '\\s'\n",
            "  text = re.sub('@[^\\s]+','',text)\n"
          ]
        }
      ],
      "source": [
        "def remove_tweet_chars(text): # Eliminar caracteres innecesarios en los tweets\n",
        "  text = re.sub('((www\\.[^\\s]+)|(https?://[^\\s]+))','', str(text))\n",
        "  text = re.sub('@[^\\s]+','',text)\n",
        "  return text\n",
        "\n",
        "def remove_words(tokens):\n",
        "    return [tok for tok in tokens if tok not in stop_words and not tok.isnumeric() and re.search(r'\\w', tok)]\n",
        "\n",
        "def preprocess_tweets_es(dataset, text_col=\"tweet\"): # Procesar los tweets, aplicando las funciones anteriores y tokenizando\n",
        "    dataset = dataset.copy()\n",
        "    dataset[\"CLEAN\"] = dataset[text_col].apply(remove_tweet_chars)\n",
        "    dataset[\"CLEAN\"] = dataset[\"CLEAN\"].apply(lambda x: tokenizer.tokenize(x.lower()))\n",
        "    dataset[\"CLEAN\"] = dataset[\"CLEAN\"].apply(remove_words)\n",
        "    dataset[\"CLEAN_STR\"] = dataset[\"CLEAN\"].apply(lambda toks: \" \".join(toks)) # Crear columna con tweets limpios como string\n",
        "    return dataset"
      ]
    },
    {
      "cell_type": "markdown",
      "id": "1c4802f5",
      "metadata": {
        "id": "1c4802f5"
      },
      "source": [
        "Aplicando las funciones anteriores, se obtiene un dataset con columnas CLEAN y CLEAN_STR."
      ]
    },
    {
      "cell_type": "code",
      "execution_count": 30,
      "id": "20476782",
      "metadata": {
        "colab": {
          "base_uri": "https://localhost:8080/",
          "height": 628
        },
        "id": "20476782",
        "outputId": "733dfc42-05c4-44a7-e233-7d261669fa2d"
      },
      "outputs": [
        {
          "data": {
            "application/vnd.google.colaboratory.intrinsic+json": {
              "summary": "{\n  \"name\": \"df_clean\",\n  \"rows\": 8409,\n  \"fields\": [\n    {\n      \"column\": \"id\",\n      \"properties\": {\n        \"dtype\": \"number\",\n        \"std\": 2427,\n        \"min\": 1,\n        \"max\": 8409,\n        \"num_unique_values\": 8409,\n        \"samples\": [\n          4238,\n          7578,\n          4315\n        ],\n        \"semantic_type\": \"\",\n        \"description\": \"\"\n      }\n    },\n    {\n      \"column\": \"tweet\",\n      \"properties\": {\n        \"dtype\": \"string\",\n        \"num_unique_values\": 8409,\n        \"samples\": [\n          \"El USER jugando mal, golea 3-0 al USER  HASHTAG\",\n          \"HASHTAG HASHTAG \\u00bfPor qu\\u00e9 el Brexit, Bolsonaro, Trump, Orb\\u00e1n o Salvini en sus pa\\u00edses s\\u00ed y en Espa\\u00f1a Vox no? El argumento de que en esos pa\\u00edses hay gente muy mala, ignorante y fascista y en Espa\\u00f1a no hay tanta es demasiado simple.\",\n          \"Klopp es lo mejor que le haya podido suceder al Liverpool. Se ten\\u00eda que decir... HASHTAG\"\n        ],\n        \"semantic_type\": \"\",\n        \"description\": \"\"\n      }\n    },\n    {\n      \"column\": \"emotion\",\n      \"properties\": {\n        \"dtype\": \"category\",\n        \"num_unique_values\": 7,\n        \"samples\": [\n          \"sadness\",\n          \"anger\",\n          \"fear\"\n        ],\n        \"semantic_type\": \"\",\n        \"description\": \"\"\n      }\n    },\n    {\n      \"column\": \"CLEAN\",\n      \"properties\": {\n        \"dtype\": \"object\",\n        \"semantic_type\": \"\",\n        \"description\": \"\"\n      }\n    },\n    {\n      \"column\": \"CLEAN_STR\",\n      \"properties\": {\n        \"dtype\": \"string\",\n        \"num_unique_values\": 8405,\n        \"samples\": [\n          \"ahora entero hashtag triste\",\n          \"pitos estadio user himno hashtag \\u2753\\u2753a atribuyen?? user user user\",\n          \"user quer\\u00eda tuitear tripas hierven si hago usted todav\\u00eda imb\\u00e9cil pensaba ahora mucho. hala quedado tranquilo. dormir. hashtag\"\n        ],\n        \"semantic_type\": \"\",\n        \"description\": \"\"\n      }\n    }\n  ]\n}",
              "type": "dataframe",
              "variable_name": "df_clean"
            },
            "text/html": [
              "\n",
              "  <div id=\"df-3abc23da-9b57-4437-bf0c-93194bf2d4ec\" class=\"colab-df-container\">\n",
              "    <div>\n",
              "<style scoped>\n",
              "    .dataframe tbody tr th:only-of-type {\n",
              "        vertical-align: middle;\n",
              "    }\n",
              "\n",
              "    .dataframe tbody tr th {\n",
              "        vertical-align: top;\n",
              "    }\n",
              "\n",
              "    .dataframe thead th {\n",
              "        text-align: right;\n",
              "    }\n",
              "</style>\n",
              "<table border=\"1\" class=\"dataframe\">\n",
              "  <thead>\n",
              "    <tr style=\"text-align: right;\">\n",
              "      <th></th>\n",
              "      <th>tweet</th>\n",
              "      <th>emotion</th>\n",
              "      <th>CLEAN</th>\n",
              "      <th>CLEAN_STR</th>\n",
              "    </tr>\n",
              "    <tr>\n",
              "      <th>id</th>\n",
              "      <th></th>\n",
              "      <th></th>\n",
              "      <th></th>\n",
              "      <th></th>\n",
              "    </tr>\n",
              "  </thead>\n",
              "  <tbody>\n",
              "    <tr>\n",
              "      <th>1</th>\n",
              "      <td>Acabo de ver la gran pérdida que estamos tenie...</td>\n",
              "      <td>sadness</td>\n",
              "      <td>[acabo, ver, gran, pérdida, momentos, hashtag,...</td>\n",
              "      <td>acabo ver gran pérdida momentos hashtag catedr...</td>\n",
              "    </tr>\n",
              "    <tr>\n",
              "      <th>2</th>\n",
              "      <td>USER ¿A que vamos a reconstruir Notre Dame ant...</td>\n",
              "      <td>sadness</td>\n",
              "      <td>[user, vamos, reconstruir, notre, dame, mandar...</td>\n",
              "      <td>user vamos reconstruir notre dame mandar solo ...</td>\n",
              "    </tr>\n",
              "    <tr>\n",
              "      <th>3</th>\n",
              "      <td>Desde ayer andan sufriendo por el incendio de ...</td>\n",
              "      <td>anger</td>\n",
              "      <td>[ayer, andan, sufriendo, incendio, hashtag, si...</td>\n",
              "      <td>ayer andan sufriendo incendio hashtag siquiera...</td>\n",
              "    </tr>\n",
              "    <tr>\n",
              "      <th>4</th>\n",
              "      <td>Muy afectada -como muchísima gente- por lo ocu...</td>\n",
              "      <td>sadness</td>\n",
              "      <td>[afectada, -como, muchísima, gente-, ocurrido,...</td>\n",
              "      <td>afectada -como muchísima gente- ocurrido hasht...</td>\n",
              "    </tr>\n",
              "    <tr>\n",
              "      <th>5</th>\n",
              "      <td>Es una mierda lo que paso en HASHTAG pero plea...</td>\n",
              "      <td>disgust</td>\n",
              "      <td>[mierda, paso, hashtag, please, dejen, subir, ...</td>\n",
              "      <td>mierda paso hashtag please dejen subir foto ha...</td>\n",
              "    </tr>\n",
              "    <tr>\n",
              "      <th>...</th>\n",
              "      <td>...</td>\n",
              "      <td>...</td>\n",
              "      <td>...</td>\n",
              "      <td>...</td>\n",
              "    </tr>\n",
              "    <tr>\n",
              "      <th>8405</th>\n",
              "      <td>Dembele es un imbécil, neta es increíble lo pe...</td>\n",
              "      <td>anger</td>\n",
              "      <td>[dembele, imbécil, neta, increíble, pendejo, e...</td>\n",
              "      <td>dembele imbécil neta increíble pendejo está. h...</td>\n",
              "    </tr>\n",
              "    <tr>\n",
              "      <th>8406</th>\n",
              "      <td>HASHTAG Puta q son desagradables los wnes del ...</td>\n",
              "      <td>anger</td>\n",
              "      <td>[hashtag, puta, q, desagradables, wnes, barca,...</td>\n",
              "      <td>hashtag puta q desagradables wnes barca especi...</td>\n",
              "    </tr>\n",
              "    <tr>\n",
              "      <th>8407</th>\n",
              "      <td>Puta que me cae mal Suárez ctm HASHTAG</td>\n",
              "      <td>anger</td>\n",
              "      <td>[puta, cae, mal, suárez, ctm, hashtag]</td>\n",
              "      <td>puta cae mal suárez ctm hashtag</td>\n",
              "    </tr>\n",
              "    <tr>\n",
              "      <th>8408</th>\n",
              "      <td>Como te odio USER, odio tus comentarios filosó...</td>\n",
              "      <td>anger</td>\n",
              "      <td>[odio, user, odio, comentarios, filosóficos, s...</td>\n",
              "      <td>odio user odio comentarios filosóficos sonidos...</td>\n",
              "    </tr>\n",
              "    <tr>\n",
              "      <th>8409</th>\n",
              "      <td>Miedo me da que mi país esté en manos de perso...</td>\n",
              "      <td>fear</td>\n",
              "      <td>[miedo, da, país, manos, personas, asesino, ha...</td>\n",
              "      <td>miedo da país manos personas asesino hashtag h...</td>\n",
              "    </tr>\n",
              "  </tbody>\n",
              "</table>\n",
              "<p>8409 rows × 4 columns</p>\n",
              "</div>\n",
              "    <div class=\"colab-df-buttons\">\n",
              "\n",
              "  <div class=\"colab-df-container\">\n",
              "    <button class=\"colab-df-convert\" onclick=\"convertToInteractive('df-3abc23da-9b57-4437-bf0c-93194bf2d4ec')\"\n",
              "            title=\"Convert this dataframe to an interactive table.\"\n",
              "            style=\"display:none;\">\n",
              "\n",
              "  <svg xmlns=\"http://www.w3.org/2000/svg\" height=\"24px\" viewBox=\"0 -960 960 960\">\n",
              "    <path d=\"M120-120v-720h720v720H120Zm60-500h600v-160H180v160Zm220 220h160v-160H400v160Zm0 220h160v-160H400v160ZM180-400h160v-160H180v160Zm440 0h160v-160H620v160ZM180-180h160v-160H180v160Zm440 0h160v-160H620v160Z\"/>\n",
              "  </svg>\n",
              "    </button>\n",
              "\n",
              "  <style>\n",
              "    .colab-df-container {\n",
              "      display:flex;\n",
              "      gap: 12px;\n",
              "    }\n",
              "\n",
              "    .colab-df-convert {\n",
              "      background-color: #E8F0FE;\n",
              "      border: none;\n",
              "      border-radius: 50%;\n",
              "      cursor: pointer;\n",
              "      display: none;\n",
              "      fill: #1967D2;\n",
              "      height: 32px;\n",
              "      padding: 0 0 0 0;\n",
              "      width: 32px;\n",
              "    }\n",
              "\n",
              "    .colab-df-convert:hover {\n",
              "      background-color: #E2EBFA;\n",
              "      box-shadow: 0px 1px 2px rgba(60, 64, 67, 0.3), 0px 1px 3px 1px rgba(60, 64, 67, 0.15);\n",
              "      fill: #174EA6;\n",
              "    }\n",
              "\n",
              "    .colab-df-buttons div {\n",
              "      margin-bottom: 4px;\n",
              "    }\n",
              "\n",
              "    [theme=dark] .colab-df-convert {\n",
              "      background-color: #3B4455;\n",
              "      fill: #D2E3FC;\n",
              "    }\n",
              "\n",
              "    [theme=dark] .colab-df-convert:hover {\n",
              "      background-color: #434B5C;\n",
              "      box-shadow: 0px 1px 3px 1px rgba(0, 0, 0, 0.15);\n",
              "      filter: drop-shadow(0px 1px 2px rgba(0, 0, 0, 0.3));\n",
              "      fill: #FFFFFF;\n",
              "    }\n",
              "  </style>\n",
              "\n",
              "    <script>\n",
              "      const buttonEl =\n",
              "        document.querySelector('#df-3abc23da-9b57-4437-bf0c-93194bf2d4ec button.colab-df-convert');\n",
              "      buttonEl.style.display =\n",
              "        google.colab.kernel.accessAllowed ? 'block' : 'none';\n",
              "\n",
              "      async function convertToInteractive(key) {\n",
              "        const element = document.querySelector('#df-3abc23da-9b57-4437-bf0c-93194bf2d4ec');\n",
              "        const dataTable =\n",
              "          await google.colab.kernel.invokeFunction('convertToInteractive',\n",
              "                                                    [key], {});\n",
              "        if (!dataTable) return;\n",
              "\n",
              "        const docLinkHtml = 'Like what you see? Visit the ' +\n",
              "          '<a target=\"_blank\" href=https://colab.research.google.com/notebooks/data_table.ipynb>data table notebook</a>'\n",
              "          + ' to learn more about interactive tables.';\n",
              "        element.innerHTML = '';\n",
              "        dataTable['output_type'] = 'display_data';\n",
              "        await google.colab.output.renderOutput(dataTable, element);\n",
              "        const docLink = document.createElement('div');\n",
              "        docLink.innerHTML = docLinkHtml;\n",
              "        element.appendChild(docLink);\n",
              "      }\n",
              "    </script>\n",
              "  </div>\n",
              "\n",
              "\n",
              "    <div id=\"df-303946e8-c721-44a0-9ae8-ca72056915d6\">\n",
              "      <button class=\"colab-df-quickchart\" onclick=\"quickchart('df-303946e8-c721-44a0-9ae8-ca72056915d6')\"\n",
              "                title=\"Suggest charts\"\n",
              "                style=\"display:none;\">\n",
              "\n",
              "<svg xmlns=\"http://www.w3.org/2000/svg\" height=\"24px\"viewBox=\"0 0 24 24\"\n",
              "     width=\"24px\">\n",
              "    <g>\n",
              "        <path d=\"M19 3H5c-1.1 0-2 .9-2 2v14c0 1.1.9 2 2 2h14c1.1 0 2-.9 2-2V5c0-1.1-.9-2-2-2zM9 17H7v-7h2v7zm4 0h-2V7h2v10zm4 0h-2v-4h2v4z\"/>\n",
              "    </g>\n",
              "</svg>\n",
              "      </button>\n",
              "\n",
              "<style>\n",
              "  .colab-df-quickchart {\n",
              "      --bg-color: #E8F0FE;\n",
              "      --fill-color: #1967D2;\n",
              "      --hover-bg-color: #E2EBFA;\n",
              "      --hover-fill-color: #174EA6;\n",
              "      --disabled-fill-color: #AAA;\n",
              "      --disabled-bg-color: #DDD;\n",
              "  }\n",
              "\n",
              "  [theme=dark] .colab-df-quickchart {\n",
              "      --bg-color: #3B4455;\n",
              "      --fill-color: #D2E3FC;\n",
              "      --hover-bg-color: #434B5C;\n",
              "      --hover-fill-color: #FFFFFF;\n",
              "      --disabled-bg-color: #3B4455;\n",
              "      --disabled-fill-color: #666;\n",
              "  }\n",
              "\n",
              "  .colab-df-quickchart {\n",
              "    background-color: var(--bg-color);\n",
              "    border: none;\n",
              "    border-radius: 50%;\n",
              "    cursor: pointer;\n",
              "    display: none;\n",
              "    fill: var(--fill-color);\n",
              "    height: 32px;\n",
              "    padding: 0;\n",
              "    width: 32px;\n",
              "  }\n",
              "\n",
              "  .colab-df-quickchart:hover {\n",
              "    background-color: var(--hover-bg-color);\n",
              "    box-shadow: 0 1px 2px rgba(60, 64, 67, 0.3), 0 1px 3px 1px rgba(60, 64, 67, 0.15);\n",
              "    fill: var(--button-hover-fill-color);\n",
              "  }\n",
              "\n",
              "  .colab-df-quickchart-complete:disabled,\n",
              "  .colab-df-quickchart-complete:disabled:hover {\n",
              "    background-color: var(--disabled-bg-color);\n",
              "    fill: var(--disabled-fill-color);\n",
              "    box-shadow: none;\n",
              "  }\n",
              "\n",
              "  .colab-df-spinner {\n",
              "    border: 2px solid var(--fill-color);\n",
              "    border-color: transparent;\n",
              "    border-bottom-color: var(--fill-color);\n",
              "    animation:\n",
              "      spin 1s steps(1) infinite;\n",
              "  }\n",
              "\n",
              "  @keyframes spin {\n",
              "    0% {\n",
              "      border-color: transparent;\n",
              "      border-bottom-color: var(--fill-color);\n",
              "      border-left-color: var(--fill-color);\n",
              "    }\n",
              "    20% {\n",
              "      border-color: transparent;\n",
              "      border-left-color: var(--fill-color);\n",
              "      border-top-color: var(--fill-color);\n",
              "    }\n",
              "    30% {\n",
              "      border-color: transparent;\n",
              "      border-left-color: var(--fill-color);\n",
              "      border-top-color: var(--fill-color);\n",
              "      border-right-color: var(--fill-color);\n",
              "    }\n",
              "    40% {\n",
              "      border-color: transparent;\n",
              "      border-right-color: var(--fill-color);\n",
              "      border-top-color: var(--fill-color);\n",
              "    }\n",
              "    60% {\n",
              "      border-color: transparent;\n",
              "      border-right-color: var(--fill-color);\n",
              "    }\n",
              "    80% {\n",
              "      border-color: transparent;\n",
              "      border-right-color: var(--fill-color);\n",
              "      border-bottom-color: var(--fill-color);\n",
              "    }\n",
              "    90% {\n",
              "      border-color: transparent;\n",
              "      border-bottom-color: var(--fill-color);\n",
              "    }\n",
              "  }\n",
              "</style>\n",
              "\n",
              "      <script>\n",
              "        async function quickchart(key) {\n",
              "          const quickchartButtonEl =\n",
              "            document.querySelector('#' + key + ' button');\n",
              "          quickchartButtonEl.disabled = true;  // To prevent multiple clicks.\n",
              "          quickchartButtonEl.classList.add('colab-df-spinner');\n",
              "          try {\n",
              "            const charts = await google.colab.kernel.invokeFunction(\n",
              "                'suggestCharts', [key], {});\n",
              "          } catch (error) {\n",
              "            console.error('Error during call to suggestCharts:', error);\n",
              "          }\n",
              "          quickchartButtonEl.classList.remove('colab-df-spinner');\n",
              "          quickchartButtonEl.classList.add('colab-df-quickchart-complete');\n",
              "        }\n",
              "        (() => {\n",
              "          let quickchartButtonEl =\n",
              "            document.querySelector('#df-303946e8-c721-44a0-9ae8-ca72056915d6 button');\n",
              "          quickchartButtonEl.style.display =\n",
              "            google.colab.kernel.accessAllowed ? 'block' : 'none';\n",
              "        })();\n",
              "      </script>\n",
              "    </div>\n",
              "\n",
              "  <div id=\"id_1fe44fb3-b60f-44f7-b6b6-37dcaba9d6a9\">\n",
              "    <style>\n",
              "      .colab-df-generate {\n",
              "        background-color: #E8F0FE;\n",
              "        border: none;\n",
              "        border-radius: 50%;\n",
              "        cursor: pointer;\n",
              "        display: none;\n",
              "        fill: #1967D2;\n",
              "        height: 32px;\n",
              "        padding: 0 0 0 0;\n",
              "        width: 32px;\n",
              "      }\n",
              "\n",
              "      .colab-df-generate:hover {\n",
              "        background-color: #E2EBFA;\n",
              "        box-shadow: 0px 1px 2px rgba(60, 64, 67, 0.3), 0px 1px 3px 1px rgba(60, 64, 67, 0.15);\n",
              "        fill: #174EA6;\n",
              "      }\n",
              "\n",
              "      [theme=dark] .colab-df-generate {\n",
              "        background-color: #3B4455;\n",
              "        fill: #D2E3FC;\n",
              "      }\n",
              "\n",
              "      [theme=dark] .colab-df-generate:hover {\n",
              "        background-color: #434B5C;\n",
              "        box-shadow: 0px 1px 3px 1px rgba(0, 0, 0, 0.15);\n",
              "        filter: drop-shadow(0px 1px 2px rgba(0, 0, 0, 0.3));\n",
              "        fill: #FFFFFF;\n",
              "      }\n",
              "    </style>\n",
              "    <button class=\"colab-df-generate\" onclick=\"generateWithVariable('df_clean')\"\n",
              "            title=\"Generate code using this dataframe.\"\n",
              "            style=\"display:none;\">\n",
              "\n",
              "  <svg xmlns=\"http://www.w3.org/2000/svg\" height=\"24px\"viewBox=\"0 0 24 24\"\n",
              "       width=\"24px\">\n",
              "    <path d=\"M7,19H8.4L18.45,9,17,7.55,7,17.6ZM5,21V16.75L18.45,3.32a2,2,0,0,1,2.83,0l1.4,1.43a1.91,1.91,0,0,1,.58,1.4,1.91,1.91,0,0,1-.58,1.4L9.25,21ZM18.45,9,17,7.55Zm-12,3A5.31,5.31,0,0,0,4.9,8.1,5.31,5.31,0,0,0,1,6.5,5.31,5.31,0,0,0,4.9,4.9,5.31,5.31,0,0,0,6.5,1,5.31,5.31,0,0,0,8.1,4.9,5.31,5.31,0,0,0,12,6.5,5.46,5.46,0,0,0,6.5,12Z\"/>\n",
              "  </svg>\n",
              "    </button>\n",
              "    <script>\n",
              "      (() => {\n",
              "      const buttonEl =\n",
              "        document.querySelector('#id_1fe44fb3-b60f-44f7-b6b6-37dcaba9d6a9 button.colab-df-generate');\n",
              "      buttonEl.style.display =\n",
              "        google.colab.kernel.accessAllowed ? 'block' : 'none';\n",
              "\n",
              "      buttonEl.onclick = () => {\n",
              "        google.colab.notebook.generateWithVariable('df_clean');\n",
              "      }\n",
              "      })();\n",
              "    </script>\n",
              "  </div>\n",
              "\n",
              "    </div>\n",
              "  </div>\n"
            ],
            "text/plain": [
              "                                                  tweet  emotion  \\\n",
              "id                                                                 \n",
              "1     Acabo de ver la gran pérdida que estamos tenie...  sadness   \n",
              "2     USER ¿A que vamos a reconstruir Notre Dame ant...  sadness   \n",
              "3     Desde ayer andan sufriendo por el incendio de ...    anger   \n",
              "4     Muy afectada -como muchísima gente- por lo ocu...  sadness   \n",
              "5     Es una mierda lo que paso en HASHTAG pero plea...  disgust   \n",
              "...                                                 ...      ...   \n",
              "8405  Dembele es un imbécil, neta es increíble lo pe...    anger   \n",
              "8406  HASHTAG Puta q son desagradables los wnes del ...    anger   \n",
              "8407             Puta que me cae mal Suárez ctm HASHTAG    anger   \n",
              "8408  Como te odio USER, odio tus comentarios filosó...    anger   \n",
              "8409  Miedo me da que mi país esté en manos de perso...     fear   \n",
              "\n",
              "                                                  CLEAN  \\\n",
              "id                                                        \n",
              "1     [acabo, ver, gran, pérdida, momentos, hashtag,...   \n",
              "2     [user, vamos, reconstruir, notre, dame, mandar...   \n",
              "3     [ayer, andan, sufriendo, incendio, hashtag, si...   \n",
              "4     [afectada, -como, muchísima, gente-, ocurrido,...   \n",
              "5     [mierda, paso, hashtag, please, dejen, subir, ...   \n",
              "...                                                 ...   \n",
              "8405  [dembele, imbécil, neta, increíble, pendejo, e...   \n",
              "8406  [hashtag, puta, q, desagradables, wnes, barca,...   \n",
              "8407             [puta, cae, mal, suárez, ctm, hashtag]   \n",
              "8408  [odio, user, odio, comentarios, filosóficos, s...   \n",
              "8409  [miedo, da, país, manos, personas, asesino, ha...   \n",
              "\n",
              "                                              CLEAN_STR  \n",
              "id                                                       \n",
              "1     acabo ver gran pérdida momentos hashtag catedr...  \n",
              "2     user vamos reconstruir notre dame mandar solo ...  \n",
              "3     ayer andan sufriendo incendio hashtag siquiera...  \n",
              "4     afectada -como muchísima gente- ocurrido hasht...  \n",
              "5     mierda paso hashtag please dejen subir foto ha...  \n",
              "...                                                 ...  \n",
              "8405  dembele imbécil neta increíble pendejo está. h...  \n",
              "8406  hashtag puta q desagradables wnes barca especi...  \n",
              "8407                    puta cae mal suárez ctm hashtag  \n",
              "8408  odio user odio comentarios filosóficos sonidos...  \n",
              "8409  miedo da país manos personas asesino hashtag h...  \n",
              "\n",
              "[8409 rows x 4 columns]"
            ]
          },
          "execution_count": 30,
          "metadata": {},
          "output_type": "execute_result"
        }
      ],
      "source": [
        "df_clean = preprocess_tweets_es(df, text_col=\"tweet\")\n",
        "df_clean"
      ]
    },
    {
      "cell_type": "code",
      "execution_count": 31,
      "id": "7941f896",
      "metadata": {
        "colab": {
          "base_uri": "https://localhost:8080/"
        },
        "id": "7941f896",
        "outputId": "09fcd506-203a-421c-daeb-826623612876"
      },
      "outputs": [
        {
          "data": {
            "text/plain": [
              "['acabo',\n",
              " 'ver',\n",
              " 'gran',\n",
              " 'pérdida',\n",
              " 'momentos',\n",
              " 'hashtag',\n",
              " 'catedral',\n",
              " 'hashtag',\n",
              " 'llamas😭hoy',\n",
              " 'humanidad',\n",
              " 'perdido',\n",
              " 'gran',\n",
              " 'monumento',\n",
              " 'arquitectónico',\n",
              " 'url']"
            ]
          },
          "execution_count": 31,
          "metadata": {},
          "output_type": "execute_result"
        }
      ],
      "source": [
        "df_clean['CLEAN'][1] # Tweet limpio como lista de tokens"
      ]
    },
    {
      "cell_type": "code",
      "execution_count": 32,
      "id": "84f628b9",
      "metadata": {
        "colab": {
          "base_uri": "https://localhost:8080/",
          "height": 35
        },
        "id": "84f628b9",
        "outputId": "66414ea9-5f21-4eb6-b04f-dd6bba5d2bf1"
      },
      "outputs": [
        {
          "data": {
            "application/vnd.google.colaboratory.intrinsic+json": {
              "type": "string"
            },
            "text/plain": [
              "'acabo ver gran pérdida momentos hashtag catedral hashtag llamas😭hoy humanidad perdido gran monumento arquitectónico url'"
            ]
          },
          "execution_count": 32,
          "metadata": {},
          "output_type": "execute_result"
        }
      ],
      "source": [
        "df_clean['CLEAN_STR'][1] # Tweet limpio como string"
      ]
    },
    {
      "cell_type": "markdown",
      "id": "xq0uZ_bJLydK",
      "metadata": {
        "id": "xq0uZ_bJLydK"
      },
      "source": [
        "### Funciones para resultados"
      ]
    },
    {
      "cell_type": "code",
      "execution_count": 33,
      "id": "TSBXBxJkLyHj",
      "metadata": {
        "id": "TSBXBxJkLyHj"
      },
      "outputs": [],
      "source": [
        "# Matriz de confusión\n",
        "def plot_confusion_matrix(y_true, y_pred, classes):\n",
        "    cm = confusion_matrix(y_true, y_pred, labels=classes)\n",
        "    plt.figure(figsize=(8,6))\n",
        "    sns.heatmap(cm, annot=True, fmt=\"d\", cmap=\"Blues\",\n",
        "                xticklabels=classes, yticklabels=classes)\n",
        "    plt.xlabel(\"Predicted\")\n",
        "    plt.ylabel(\"True\")\n",
        "    plt.title(\"Confusion Matrix\")\n",
        "    plt.show()\n",
        "\n",
        "# DF de resultados\n",
        "def get_f1_per_class(y_true, y_pred, labels, model_name):\n",
        "    report = classification_report(\n",
        "        y_true, y_pred,\n",
        "        target_names=labels,\n",
        "        output_dict=True,\n",
        "        zero_division=0\n",
        "    )\n",
        "    # Extraemos solo el f1-score por clase\n",
        "    f1_scores = {cls: report[cls]['f1-score'] for cls in labels}\n",
        "    return pd.DataFrame(f1_scores, index=[model_name])\n",
        "\n",
        "df_results = pd.DataFrame() # Dataframe de resultados"
      ]
    },
    {
      "cell_type": "markdown",
      "id": "4a7ffaed",
      "metadata": {
        "id": "4a7ffaed"
      },
      "source": [
        "Las columans obtenidas servirán tanto para el clasificador con Logistic Regression como con LSTM, ya que la segunda necesita el string completo."
      ]
    },
    {
      "cell_type": "code",
      "execution_count": 36,
      "id": "bdea7778",
      "metadata": {
        "colab": {
          "base_uri": "https://localhost:8080/",
          "height": 807
        },
        "id": "bdea7778",
        "outputId": "4090ca29-0bb9-4a97-fb81-fdbd2f6d3342"
      },
      "outputs": [
        {
          "name": "stdout",
          "output_type": "stream",
          "text": [
            "              precision    recall  f1-score   support\n",
            "\n",
            "       anger       0.40      0.54      0.46       171\n",
            "     disgust       0.11      0.12      0.12        32\n",
            "        fear       0.43      0.53      0.48        19\n",
            "         joy       0.53      0.57      0.55       363\n",
            "      others       0.73      0.59      0.65       826\n",
            "     sadness       0.70      0.68      0.69       202\n",
            "    surprise       0.23      0.48      0.31        69\n",
            "\n",
            "    accuracy                           0.58      1682\n",
            "   macro avg       0.45      0.50      0.47      1682\n",
            "weighted avg       0.62      0.58      0.59      1682\n",
            "\n"
          ]
        },
        {
          "data": {
            "image/png": "[encoded data removed]",
            "text/plain": [
              "<Figure size 800x600 with 2 Axes>"
            ]
          },
          "metadata": {},
          "output_type": "display_data"
        }
      ],
      "source": [
        "from sklearn.model_selection import train_test_split\n",
        "from sklearn.feature_extraction.text import TfidfVectorizer\n",
        "from sklearn.linear_model import LogisticRegression\n",
        "from sklearn.metrics import classification_report, confusion_matrix\n",
        "\n",
        "# Separar en conjunto de entrenamiento y prueba\n",
        "X = df_clean[\"CLEAN_STR\"]\n",
        "y = df_clean[\"emotion\"]\n",
        "X_train, X_test, y_train, y_test = train_test_split(X, y, test_size=0.2, random_state=42, stratify=y)\n",
        "\n",
        "# Vectorización TF-IDF\n",
        "vectorizer = TfidfVectorizer(lowercase=False)\n",
        "X_train_tfidf = vectorizer.fit_transform(X_train)\n",
        "X_test_tfidf  = vectorizer.transform(X_test)\n",
        "\n",
        "# Regresión logística (clasificador)\n",
        "clf = LogisticRegression(max_iter=2000, class_weight=\"balanced\")\n",
        "clf.fit(X_train_tfidf, y_train)\n",
        "\n",
        "y_pred = clf.predict(X_test_tfidf)\n",
        "\n",
        "# Evaluación\n",
        "print(classification_report(y_test, y_pred, zero_division=0))\n",
        "plot_confusion_matrix(y_test, y_pred, classes=clf.classes_)\n",
        "f1_model1 = get_f1_per_class(y_test, y_pred, clf.classes_, \"TF-IDF + LR\")\n",
        "df_results = pd.concat([df_results, f1_model1])"
      ]
    },
    {
      "cell_type": "markdown",
      "id": "1b582e74",
      "metadata": {
        "id": "1b582e74"
      },
      "source": [
        "### Resultados modelo 1"
      ]
    },
    {
      "cell_type": "markdown",
      "id": "0548643d",
      "metadata": {
        "id": "0548643d"
      },
      "source": [
        "Se observa que el modelo tuvo una precisión y recall muy bajos en la clase disgust. El disgusto puede estar asociado con el enojo, clase que predijo el modelo para estos ejemplos. Esto se relaciona con el número reducido de ejemplos de disgust, por lo que el modelo no consigue una buena generalización a partir de estos.\n",
        "\n",
        "Por otro lado, se observa que gran parte de las predicciones fueron para la clase others. Al ser una clase que agrupa tweets variados, es comprensible que al no tener certeza de otras clases, el modelo prediga esta. Esto se refleja en el alto recall con una precisión media, recupera gran parte de los ejemplos en others, pero también clasifica ejemplos de otras clases en esta.\n",
        "\n",
        "En general, los mejores resultados se dieron para joy, others y sadness. Las demás categorías tienen un F1-Score muy bajo. Esto se puede deber en gran medida a que existen más ejemplos para estas clases, así como que felicidad y tristeza son emociones que son más faciles de denotar.\n",
        "\n",
        "El uso de métodos clásicos para el preprocesamiento (quitar caracteres y stopwords, tokenizar) es necesario para este modelo de clasificación, y sin embargo no se consiguen resultados destacables, lo que es esperable. De esta forma se demuestra la limitación de este método, ya que carece de la interpretación contextual, por lo que emociones más complejas no son predichas correctamente."
      ]
    },
    {
      "cell_type": "markdown",
      "id": "d0b89e15",
      "metadata": {
        "id": "d0b89e15"
      },
      "source": [
        "## Modelo 2: Embeddings + Red Recurrente (LSTM)"
      ]
    },
    {
      "cell_type": "code",
      "execution_count": 37,
      "id": "677807c8",
      "metadata": {
        "id": "677807c8"
      },
      "outputs": [],
      "source": [
        "from tensorflow.keras.preprocessing.text import Tokenizer\n",
        "from tensorflow.keras.preprocessing.sequence import pad_sequences\n",
        "from sklearn.preprocessing import LabelEncoder\n",
        "import tensorflow as tf\n",
        "from tensorflow.keras.models import Sequential\n",
        "from tensorflow.keras.layers import Embedding, LSTM, Dense, Dropout, Input\n",
        "from tensorflow.keras.optimizers import Adam\n",
        "from sklearn.utils.class_weight import compute_class_weight\n"
      ]
    },
    {
      "cell_type": "code",
      "execution_count": 38,
      "id": "c5f97971",
      "metadata": {
        "id": "c5f97971"
      },
      "outputs": [],
      "source": [
        "MAX_NUM_WORDS = 10000   # Tamaño del vocabulario\n",
        "MAX_SEQ_LEN   = 48\n",
        "\n",
        "tokenizer = Tokenizer(num_words=MAX_NUM_WORDS, oov_token=\"<OOV>\", filters='')\n",
        "texts = df_clean[\"CLEAN_STR\"].astype(str).tolist()\n",
        "tokenizer.fit_on_texts(texts)\n",
        "\n",
        "X = tokenizer.texts_to_sequences(texts)\n",
        "X = pad_sequences(X, padding=\"post\", truncating=\"post\")\n",
        "\n",
        "le = LabelEncoder()\n",
        "y_int = le.fit_transform(df_clean[\"emotion\"])\n",
        "y = tf.keras.utils.to_categorical(y_int, num_classes=len(le.classes_))"
      ]
    },
    {
      "cell_type": "code",
      "execution_count": 39,
      "id": "6ae3e6a6",
      "metadata": {
        "colab": {
          "base_uri": "https://localhost:8080/",
          "height": 268
        },
        "id": "6ae3e6a6",
        "outputId": "3c34dc05-7e52-490a-a48d-18bb1e15312f"
      },
      "outputs": [
        {
          "data": {
            "text/html": [
              "<pre style=\"white-space:pre;overflow-x:auto;line-height:normal;font-family:Menlo,'DejaVu Sans Mono',consolas,'Courier New',monospace\"><span style=\"font-weight: bold\">Model: \"sequential_1\"</span>\n",
              "</pre>\n"
            ],
            "text/plain": [
              "\u001b[1mModel: \"sequential_1\"\u001b[0m\n"
            ]
          },
          "metadata": {},
          "output_type": "display_data"
        },
        {
          "data": {
            "text/html": [
              "<pre style=\"white-space:pre;overflow-x:auto;line-height:normal;font-family:Menlo,'DejaVu Sans Mono',consolas,'Courier New',monospace\">┏━━━━━━━━━━━━━━━━━━━━━━━━━━━━━━━━━┳━━━━━━━━━━━━━━━━━━━━━━━━┳━━━━━━━━━━━━━━━┓\n",
              "┃<span style=\"font-weight: bold\"> Layer (type)                    </span>┃<span style=\"font-weight: bold\"> Output Shape           </span>┃<span style=\"font-weight: bold\">       Param # </span>┃\n",
              "┡━━━━━━━━━━━━━━━━━━━━━━━━━━━━━━━━━╇━━━━━━━━━━━━━━━━━━━━━━━━╇━━━━━━━━━━━━━━━┩\n",
              "│ embedding_1 (<span style=\"color: #0087ff; text-decoration-color: #0087ff\">Embedding</span>)         │ (<span style=\"color: #00d7ff; text-decoration-color: #00d7ff\">None</span>, <span style=\"color: #00af00; text-decoration-color: #00af00\">48</span>, <span style=\"color: #00af00; text-decoration-color: #00af00\">32</span>)         │       <span style=\"color: #00af00; text-decoration-color: #00af00\">320,000</span> │\n",
              "├─────────────────────────────────┼────────────────────────┼───────────────┤\n",
              "│ lstm_1 (<span style=\"color: #0087ff; text-decoration-color: #0087ff\">LSTM</span>)                   │ (<span style=\"color: #00d7ff; text-decoration-color: #00d7ff\">None</span>, <span style=\"color: #00af00; text-decoration-color: #00af00\">16</span>)             │         <span style=\"color: #00af00; text-decoration-color: #00af00\">3,136</span> │\n",
              "├─────────────────────────────────┼────────────────────────┼───────────────┤\n",
              "│ dropout_1 (<span style=\"color: #0087ff; text-decoration-color: #0087ff\">Dropout</span>)             │ (<span style=\"color: #00d7ff; text-decoration-color: #00d7ff\">None</span>, <span style=\"color: #00af00; text-decoration-color: #00af00\">16</span>)             │             <span style=\"color: #00af00; text-decoration-color: #00af00\">0</span> │\n",
              "├─────────────────────────────────┼────────────────────────┼───────────────┤\n",
              "│ dense_1 (<span style=\"color: #0087ff; text-decoration-color: #0087ff\">Dense</span>)                 │ (<span style=\"color: #00d7ff; text-decoration-color: #00d7ff\">None</span>, <span style=\"color: #00af00; text-decoration-color: #00af00\">7</span>)              │           <span style=\"color: #00af00; text-decoration-color: #00af00\">119</span> │\n",
              "└─────────────────────────────────┴────────────────────────┴───────────────┘\n",
              "</pre>\n"
            ],
            "text/plain": [
              "┏━━━━━━━━━━━━━━━━━━━━━━━━━━━━━━━━━┳━━━━━━━━━━━━━━━━━━━━━━━━┳━━━━━━━━━━━━━━━┓\n",
              "┃\u001b[1m \u001b[0m\u001b[1mLayer (type)                   \u001b[0m\u001b[1m \u001b[0m┃\u001b[1m \u001b[0m\u001b[1mOutput Shape          \u001b[0m\u001b[1m \u001b[0m┃\u001b[1m \u001b[0m\u001b[1m      Param #\u001b[0m\u001b[1m \u001b[0m┃\n",
              "┡━━━━━━━━━━━━━━━━━━━━━━━━━━━━━━━━━╇━━━━━━━━━━━━━━━━━━━━━━━━╇━━━━━━━━━━━━━━━┩\n",
              "│ embedding_1 (\u001b[38;5;33mEmbedding\u001b[0m)         │ (\u001b[38;5;45mNone\u001b[0m, \u001b[38;5;34m48\u001b[0m, \u001b[38;5;34m32\u001b[0m)         │       \u001b[38;5;34m320,000\u001b[0m │\n",
              "├─────────────────────────────────┼────────────────────────┼───────────────┤\n",
              "│ lstm_1 (\u001b[38;5;33mLSTM\u001b[0m)                   │ (\u001b[38;5;45mNone\u001b[0m, \u001b[38;5;34m16\u001b[0m)             │         \u001b[38;5;34m3,136\u001b[0m │\n",
              "├─────────────────────────────────┼────────────────────────┼───────────────┤\n",
              "│ dropout_1 (\u001b[38;5;33mDropout\u001b[0m)             │ (\u001b[38;5;45mNone\u001b[0m, \u001b[38;5;34m16\u001b[0m)             │             \u001b[38;5;34m0\u001b[0m │\n",
              "├─────────────────────────────────┼────────────────────────┼───────────────┤\n",
              "│ dense_1 (\u001b[38;5;33mDense\u001b[0m)                 │ (\u001b[38;5;45mNone\u001b[0m, \u001b[38;5;34m7\u001b[0m)              │           \u001b[38;5;34m119\u001b[0m │\n",
              "└─────────────────────────────────┴────────────────────────┴───────────────┘\n"
            ]
          },
          "metadata": {},
          "output_type": "display_data"
        },
        {
          "data": {
            "text/html": [
              "<pre style=\"white-space:pre;overflow-x:auto;line-height:normal;font-family:Menlo,'DejaVu Sans Mono',consolas,'Courier New',monospace\"><span style=\"font-weight: bold\"> Total params: </span><span style=\"color: #00af00; text-decoration-color: #00af00\">323,255</span> (1.23 MB)\n",
              "</pre>\n"
            ],
            "text/plain": [
              "\u001b[1m Total params: \u001b[0m\u001b[38;5;34m323,255\u001b[0m (1.23 MB)\n"
            ]
          },
          "metadata": {},
          "output_type": "display_data"
        },
        {
          "data": {
            "text/html": [
              "<pre style=\"white-space:pre;overflow-x:auto;line-height:normal;font-family:Menlo,'DejaVu Sans Mono',consolas,'Courier New',monospace\"><span style=\"font-weight: bold\"> Trainable params: </span><span style=\"color: #00af00; text-decoration-color: #00af00\">323,255</span> (1.23 MB)\n",
              "</pre>\n"
            ],
            "text/plain": [
              "\u001b[1m Trainable params: \u001b[0m\u001b[38;5;34m323,255\u001b[0m (1.23 MB)\n"
            ]
          },
          "metadata": {},
          "output_type": "display_data"
        },
        {
          "data": {
            "text/html": [
              "<pre style=\"white-space:pre;overflow-x:auto;line-height:normal;font-family:Menlo,'DejaVu Sans Mono',consolas,'Courier New',monospace\"><span style=\"font-weight: bold\"> Non-trainable params: </span><span style=\"color: #00af00; text-decoration-color: #00af00\">0</span> (0.00 B)\n",
              "</pre>\n"
            ],
            "text/plain": [
              "\u001b[1m Non-trainable params: \u001b[0m\u001b[38;5;34m0\u001b[0m (0.00 B)\n"
            ]
          },
          "metadata": {},
          "output_type": "display_data"
        }
      ],
      "source": [
        "# Definir el modelo de red neuronal\n",
        "EMBEDDING_DIM = 32\n",
        "\n",
        "model = Sequential([\n",
        "    Input(shape=(MAX_SEQ_LEN,)),\n",
        "    Embedding(input_dim=MAX_NUM_WORDS, output_dim=EMBEDDING_DIM, mask_zero=True),\n",
        "    LSTM(16, dropout=0.6, recurrent_dropout=0.2, return_sequences=False),\n",
        "    Dropout(0.6),\n",
        "    Dense(len(le.classes_), activation=\"softmax\")\n",
        "])\n",
        "\n",
        "model.compile(loss=\"categorical_crossentropy\",\n",
        "              optimizer=Adam(learning_rate=5e-4),\n",
        "              metrics=[\"accuracy\"])\n",
        "model.summary()"
      ]
    },
    {
      "cell_type": "code",
      "execution_count": 40,
      "id": "17e8897d",
      "metadata": {
        "id": "17e8897d"
      },
      "outputs": [],
      "source": [
        "X_train, X_test, y_train, y_test = train_test_split(\n",
        "    X, y, test_size=0.2, random_state=42, stratify=y_int\n",
        ")\n",
        "\n",
        "X_train, X_val, y_train, y_val = train_test_split(\n",
        "    X_train, y_train, test_size=0.1, random_state=42, stratify=np.argmax(y_train, axis=1)\n",
        ")\n",
        "\n",
        "# calcular class_weight con etiquetas enteras del train para balancear clases\n",
        "y_train_int = np.argmax(y_train, axis=1)\n",
        "classes = np.unique(y_train_int)\n",
        "weights = compute_class_weight(class_weight=\"balanced\", classes=classes, y=y_train_int)\n",
        "class_weight = {i: w for i, w in enumerate(weights)}"
      ]
    },
    {
      "cell_type": "code",
      "execution_count": 41,
      "id": "msEAp2LkYGMX",
      "metadata": {
        "id": "msEAp2LkYGMX"
      },
      "outputs": [],
      "source": [
        "from pathlib import Path\n",
        "\n",
        "MODEL_DIR  = Path(\"models/lstm_emotions\")\n",
        "MODEL_DIR.mkdir(parents=True, exist_ok=True)\n",
        "MODEL_PATH = MODEL_DIR / \"model.keras\""
      ]
    },
    {
      "cell_type": "code",
      "execution_count": 42,
      "id": "QgfilC2kYcBn",
      "metadata": {
        "colab": {
          "base_uri": "https://localhost:8080/"
        },
        "id": "QgfilC2kYcBn",
        "outputId": "c7050c08-8aca-48a3-d121-ec61e683f3d0"
      },
      "outputs": [
        {
          "name": "stdout",
          "output_type": "stream",
          "text": [
            "Existe modelo guardado previamente: models/lstm_emotions/model.keras. Saltando el entrenamiento.\n"
          ]
        }
      ],
      "source": [
        "if MODEL_PATH.exists():\n",
        "    print(f\"Existe modelo guardado previamente: {MODEL_PATH}. Saltando el entrenamiento.\")\n",
        "    model = tf.keras.models.load_model(MODEL_PATH)\n",
        "\n",
        "else:\n",
        "\n",
        "  history = model.fit(\n",
        "      X_train, y_train,\n",
        "      validation_data=(X_val, y_val),\n",
        "      batch_size=64,\n",
        "      epochs=25,\n",
        "      verbose=1,\n",
        "      callbacks=[tf.keras.callbacks.EarlyStopping(monitor='val_loss', patience=3,\n",
        "                                          restore_best_weights=True, verbose=1),\n",
        "                tf.keras.callbacks.ModelCheckpoint(filepath=str(MODEL_PATH), monitor='val_loss',\n",
        "                                                    save_best_only=True, save_weights_only=False, verbose=1)],\n",
        "      class_weight=class_weight\n",
        "  )\n",
        "  print(f\"Guardando el modelo en: {MODEL_PATH}\")\n",
        "\n",
        "model.load_weights(\"models/lstm_emotions/model.keras\")"
      ]
    },
    {
      "cell_type": "code",
      "execution_count": 44,
      "id": "c591168e",
      "metadata": {
        "colab": {
          "base_uri": "https://localhost:8080/",
          "height": 824
        },
        "id": "c591168e",
        "outputId": "b42877a9-2489-4c72-8568-d4bff32d930a"
      },
      "outputs": [
        {
          "name": "stdout",
          "output_type": "stream",
          "text": [
            "\u001b[1m53/53\u001b[0m \u001b[32m━━━━━━━━━━━━━━━━━━━━\u001b[0m\u001b[37m\u001b[0m \u001b[1m2s\u001b[0m 45ms/step\n",
            "              precision    recall  f1-score   support\n",
            "\n",
            "       anger       0.47      0.15      0.22       171\n",
            "     disgust       0.09      0.38      0.14        32\n",
            "        fear       0.21      0.42      0.28        19\n",
            "         joy       0.35      0.71      0.47       363\n",
            "      others       0.67      0.24      0.35       826\n",
            "     sadness       0.57      0.66      0.61       202\n",
            "    surprise       0.15      0.42      0.22        69\n",
            "\n",
            "    accuracy                           0.39      1682\n",
            "   macro avg       0.36      0.42      0.33      1682\n",
            "weighted avg       0.53      0.39      0.39      1682\n",
            "\n"
          ]
        },
        {
          "data": {
            "image/png": "[encoded data removed]",
            "text/plain": [
              "<Figure size 800x600 with 2 Axes>"
            ]
          },
          "metadata": {},
          "output_type": "display_data"
        }
      ],
      "source": [
        "y_pred = model.predict(X_test)\n",
        "y_pred_classes = np.argmax(y_pred, axis=1)\n",
        "y_true = np.argmax(y_test, axis=1)\n",
        "y_true_str = le.inverse_transform(y_true)\n",
        "y_pred_str = le.inverse_transform(y_pred_classes)\n",
        "\n",
        "print(classification_report(y_true, y_pred_classes, target_names=le.classes_, zero_division=0))\n",
        "f1_model2 = get_f1_per_class(y_true_str, y_pred_str, le.classes_, \"LSTM\")\n",
        "df_results = pd.concat([df_results, f1_model2])\n",
        "plot_confusion_matrix(y_true_str, y_pred_str, classes=le.classes_)"
      ]
    },
    {
      "cell_type": "markdown",
      "id": "uB-97Uy58pYa",
      "metadata": {
        "id": "uB-97Uy58pYa"
      },
      "source": [
        "### Resultados modelo 2:\n",
        "Durante el entrenamiento, se observó que la red LSTM es propensa a presentar overfitting al conjunto de datos, por lo que se tuvo que aplicar técnicas de regularización (dropout) y disminuir algunos parámetros como la cantidad de neuronas para simplificar el modelo.\n",
        "\n",
        "Tras varias iteraciones, se logró reducir el overfitting.\n",
        "\n",
        "Si bien se obtuvo un menor desempeño en las clases que el modelo 1 predecía correctamente (joy, others, sadness), se obtuvieron mejores resultados para las demás clases.\n",
        "\n",
        "Como se observa en la matriz de confusión, se tienen resultados más balanceados de precisión y recall para todas las clases.\n",
        "\n",
        "Como en el modelo anterior, las clases de others y sadness destacan por tener un mejor desempeño que las demás.  \n",
        "\n",
        "Este modelo puede interpretar el contexto de la oración gracias a emplear LSTM, de esta forma, se logra interpretar emociones más complejas que pueden ser expresadas de manera más sutil."
      ]
    },
    {
      "cell_type": "markdown",
      "id": "ad43208b",
      "metadata": {
        "id": "ad43208b"
      },
      "source": [
        "## Modelo 3: Fine-tune a BETO"
      ]
    },
    {
      "cell_type": "markdown",
      "id": "_1dJ8AaWDN8g",
      "metadata": {
        "id": "_1dJ8AaWDN8g"
      },
      "source": [
        "El tercer modelo"
      ]
    },
    {
      "cell_type": "code",
      "execution_count": 45,
      "id": "a1a2d110",
      "metadata": {
        "colab": {
          "base_uri": "https://localhost:8080/"
        },
        "id": "a1a2d110",
        "outputId": "66750582-8ea0-4c92-ecc2-4454fb245349"
      },
      "outputs": [
        {
          "name": "stdout",
          "output_type": "stream",
          "text": [
            "Sizes: 6727 841 841\n",
            "Classes: ['anger', 'disgust', 'fear', 'joy', 'others', 'sadness', 'surprise']\n"
          ]
        }
      ],
      "source": [
        "df_bert = df.copy()\n",
        "df_bert[\"text\"] = df_bert[\"tweet\"].apply(remove_tweet_chars)\n",
        "df_bert = df_bert[df_bert[\"text\"].str.len() > 0].reset_index(drop=True)\n",
        "\n",
        "le = LabelEncoder()\n",
        "df_bert[\"label\"] = le.fit_transform(df_bert[\"emotion\"])\n",
        "num_labels = len(le.classes_)  # should be 7\n",
        "\n",
        "X = df_bert[\"text\"].values\n",
        "y = df_bert[\"label\"].values\n",
        "\n",
        "X_train, X_tmp, y_train, y_tmp = train_test_split(\n",
        "    X, y, test_size=0.2, random_state=42, stratify=y\n",
        ")\n",
        "X_val, X_test, y_val, y_test = train_test_split(\n",
        "    X_tmp, y_tmp, test_size=0.5, random_state=42, stratify=y_tmp\n",
        ")\n",
        "\n",
        "print(\"Sizes:\", len(X_train), len(X_val), len(X_test))\n",
        "print(\"Classes:\", list(le.classes_))"
      ]
    },
    {
      "cell_type": "code",
      "execution_count": 46,
      "id": "d0b90106",
      "metadata": {
        "colab": {
          "base_uri": "https://localhost:8080/",
          "height": 318,
          "referenced_widgets": [
            "b750eea24b2442b8901669c91156b6d7",
            "dd2cc61c88a24a77b401798b699150a6",
            "8dfd14e3d6a244248725e396154fa699",
            "1ceb115cbdfc4f7fb7cfe4048829e920",
            "0b0383624bb24676b2d03be9b2eb69a6",
            "196dcf2d17404e1095fd20fdf8226874",
            "06df13b7fc6c4c4db304544ea0122c61",
            "088960603474469e8f98d9f7c867873b",
            "b8215067b30e4c619c9ff46615664486",
            "59d34382ea734efbb90edce0c7974132",
            "ba05d6ffe8a6493885bf0fd2de975b19",
            "c8a46979dead46a7adfa4c513ae1dcde",
            "fba6ca2a62894d1bb64f3163671191b1",
            "0f61d392a79c4ca29d30b5b7fedf15c7",
            "f21760d56b354a53b61bd7014dfe14d8",
            "6a220e95700548cbbdbaab91b3e74b88",
            "95d18d7961d5462ab8dc3442a08b37e7",
            "19db9279676a4a09b0be9231bf46df79",
            "591664e207684d068dc8ce663753a284",
            "ea7fa63f0ccb4a1bad33fbd2fae6b2bf",
            "60c347a469cc4831b781a695ce16e8e1",
            "fb0a6392de2a410bb0164d37c5eb4818",
            "bf86d674a9084670b480ac7b51933a44",
            "9550dbc23c12459ba0a21331d1725a57",
            "2bb26479113f457fac96a6a87e58fe50",
            "30306c33b9c642feb37280192b62a655",
            "3e479498f2a74cd7bd7ec4056bd04db9",
            "04f0a55a4c0348c5888bd52815413d2a",
            "0fb4802f8e674bb6a2ae80520c25caf8",
            "ebe1090c333d4d7cbd94d53beaabc813",
            "4cfe7c3157c042cf90ca0fbfd8e8dea0",
            "ccbd9bcb330d476592ad3dceb047c317",
            "c8b633c376f74ef3b4cc0af2493f0a9d",
            "ee7f36020a9c4f29ab34908e19b68def",
            "c030f3ff9ed940adabc049df5bd23f31",
            "e8f6ee2a33744eed8ec1a922fb620a88",
            "19739590a46549beb18c93fb771978e7",
            "015ea6e847be4337b9c1d150ba034250",
            "81f0e912020e42209426b373a14dbddf",
            "7a1cf59e11794893b87de7e2de588bd5",
            "b3844cede9bb4120830f613821e4108c",
            "93776e5f274b49f8855197b3502a197e",
            "82961056f30c4e829133c063e2cec9f9",
            "a3dfd94947184802bb5f55192b6eaeb6",
            "083d57600cb44c8bad18a1bf690eb509",
            "26b0f61e214c44b78db6439ba8e1ed18",
            "46aaa09be1954906803dc0ee0e187d26",
            "f064184cf41a475d9e33610e0807ab9d",
            "f56aebe116c94232bedc500985f292f9",
            "60a344024624472aa7a8a76caf67be1a",
            "db97c8e7b6ec48ca853d39784731ecfe",
            "1afc9b05fa554549ab072e098369ba6f",
            "92f0cdee05674abb9a04f96dcae14081",
            "87e07f3180ed47a18da331563fcbd5fb",
            "c00ab059fa584eddb6d473c669ac3d82"
          ]
        },
        "id": "d0b90106",
        "outputId": "adb9f205-3c04-4ccd-8824-fbf3fb47fbbb"
      },
      "outputs": [
        {
          "name": "stdout",
          "output_type": "stream",
          "text": [
            "Downloading tokenizer from Hugging Face…\n"
          ]
        },
        {
          "name": "stderr",
          "output_type": "stream",
          "text": [
            "/usr/local/lib/python3.12/dist-packages/huggingface_hub/utils/_auth.py:94: UserWarning: \n",
            "The secret `HF_TOKEN` does not exist in your Colab secrets.\n",
            "To authenticate with the Hugging Face Hub, create a token in your settings tab (https://huggingface.co/settings/tokens), set it as secret in your Google Colab and restart your session.\n",
            "You will be able to reuse this secret in all of your notebooks.\n",
            "Please note that authentication is recommended but still optional to access public models or datasets.\n",
            "  warnings.warn(\n"
          ]
        },
        {
          "data": {
            "application/vnd.jupyter.widget-view+json": {
              "model_id": "b750eea24b2442b8901669c91156b6d7",
              "version_major": 2,
              "version_minor": 0
            },
            "text/plain": [
              "tokenizer_config.json:   0%|          | 0.00/364 [00:00<?, ?B/s]"
            ]
          },
          "metadata": {},
          "output_type": "display_data"
        },
        {
          "data": {
            "application/vnd.jupyter.widget-view+json": {
              "model_id": "c8a46979dead46a7adfa4c513ae1dcde",
              "version_major": 2,
              "version_minor": 0
            },
            "text/plain": [
              "config.json:   0%|          | 0.00/648 [00:00<?, ?B/s]"
            ]
          },
          "metadata": {},
          "output_type": "display_data"
        },
        {
          "data": {
            "application/vnd.jupyter.widget-view+json": {
              "model_id": "bf86d674a9084670b480ac7b51933a44",
              "version_major": 2,
              "version_minor": 0
            },
            "text/plain": [
              "vocab.txt: 0.00B [00:00, ?B/s]"
            ]
          },
          "metadata": {},
          "output_type": "display_data"
        },
        {
          "data": {
            "application/vnd.jupyter.widget-view+json": {
              "model_id": "ee7f36020a9c4f29ab34908e19b68def",
              "version_major": 2,
              "version_minor": 0
            },
            "text/plain": [
              "tokenizer.json: 0.00B [00:00, ?B/s]"
            ]
          },
          "metadata": {},
          "output_type": "display_data"
        },
        {
          "data": {
            "application/vnd.jupyter.widget-view+json": {
              "model_id": "083d57600cb44c8bad18a1bf690eb509",
              "version_major": 2,
              "version_minor": 0
            },
            "text/plain": [
              "special_tokens_map.json:   0%|          | 0.00/134 [00:00<?, ?B/s]"
            ]
          },
          "metadata": {},
          "output_type": "display_data"
        }
      ],
      "source": [
        "from transformers import AutoTokenizer\n",
        "import tensorflow as tf\n",
        "\n",
        "MODEL_NAME = \"dccuchile/bert-base-spanish-wwm-cased\"\n",
        "SAVE_DIR   = Path(\"beto-emotions-tf\")\n",
        "MAX_LEN = 96\n",
        "BATCH   = 16\n",
        "NUM_LABELS = len(le.classes_)\n",
        "\n",
        "# Cargar si existe tokenizer guardado\n",
        "if SAVE_DIR.exists():\n",
        "    print(\"Loading tokenizer from saved folder…\")\n",
        "    tokenizer = AutoTokenizer.from_pretrained(SAVE_DIR)\n",
        "else:\n",
        "    print(\"Downloading tokenizer from Hugging Face…\")\n",
        "    tokenizer = AutoTokenizer.from_pretrained(MODEL_NAME)\n",
        "\n",
        "\n",
        "# ---------- Encode datasets ----------\n",
        "enc_train = tokenizer(list(X_train), truncation=True, padding=\"max_length\",\n",
        "                      max_length=MAX_LEN, return_tensors=\"np\")\n",
        "enc_val   = tokenizer(list(X_val),   truncation=True, padding=\"max_length\",\n",
        "                      max_length=MAX_LEN, return_tensors=\"np\")\n",
        "enc_test  = tokenizer(list(X_test),  truncation=True, padding=\"max_length\",\n",
        "                      max_length=MAX_LEN, return_tensors=\"np\")\n",
        "\n",
        "\n",
        "train_ds = tf.data.Dataset.from_tensor_slices((\n",
        "    {\"input_ids\": enc_train[\"input_ids\"], \"attention_mask\": enc_train[\"attention_mask\"]},\n",
        "    y_train\n",
        ")).shuffle(2048, seed=42).batch(BATCH).prefetch(tf.data.AUTOTUNE)\n",
        "\n",
        "val_ds = tf.data.Dataset.from_tensor_slices((\n",
        "    {\"input_ids\": enc_val[\"input_ids\"], \"attention_mask\": enc_val[\"attention_mask\"]},\n",
        "    y_val\n",
        ")).batch(BATCH).prefetch(tf.data.AUTOTUNE)\n",
        "\n",
        "test_ds = tf.data.Dataset.from_tensor_slices((\n",
        "    {\"input_ids\": enc_test[\"input_ids\"], \"attention_mask\": enc_test[\"attention_mask\"]},\n",
        "    y_test\n",
        ")).batch(BATCH)"
      ]
    },
    {
      "cell_type": "code",
      "execution_count": 48,
      "id": "ae3a72fa",
      "metadata": {
        "colab": {
          "base_uri": "https://localhost:8080/",
          "height": 243,
          "referenced_widgets": [
            "cff9dfc997924a2d8ab0e2b0519c7f72",
            "5eaa68f4293c45b8af3c45489426cf0a",
            "c51a9f9c048e4d8599bea5d0e593c185",
            "e092d77f5c384103812d3d7dc67b373b",
            "8bc962e6c90241fa8e0991036ffa9e47",
            "45e6a9a5131e44bdada5bb1c1ab116a0",
            "1a119544c1be448ea2510f7a989bc6be",
            "1b0528fb7d7b457db8f68e22e1f98519",
            "92cdf709f41e426085c12bf6b75f9529",
            "b312b8a9ed654db8bb977db50b059fa5",
            "abf00f21ba264e04a37979acd4de295c"
          ]
        },
        "id": "ae3a72fa",
        "outputId": "4b3da5df-97d8-46b3-8c65-ee5f7e532aba"
      },
      "outputs": [
        {
          "name": "stdout",
          "output_type": "stream",
          "text": [
            "Training new model…\n"
          ]
        },
        {
          "data": {
            "application/vnd.jupyter.widget-view+json": {
              "model_id": "cff9dfc997924a2d8ab0e2b0519c7f72",
              "version_major": 2,
              "version_minor": 0
            },
            "text/plain": [
              "tf_model.h5:   0%|          | 0.00/537M [00:00<?, ?B/s]"
            ]
          },
          "metadata": {},
          "output_type": "display_data"
        },
        {
          "name": "stderr",
          "output_type": "stream",
          "text": [
            "TensorFlow and JAX classes are deprecated and will be removed in Transformers v5. We recommend migrating to PyTorch classes or pinning your version of Transformers.\n",
            "All model checkpoint layers were used when initializing TFBertForSequenceClassification.\n",
            "\n",
            "Some layers of TFBertForSequenceClassification were not initialized from the model checkpoint at dccuchile/bert-base-spanish-wwm-cased and are newly initialized: ['classifier', 'bert/pooler/dense/bias:0', 'bert/pooler/dense/kernel:0']\n",
            "You should probably TRAIN this model on a down-stream task to be able to use it for predictions and inference.\n"
          ]
        },
        {
          "name": "stdout",
          "output_type": "stream",
          "text": [
            "Epoch 1/3\n",
            "421/421 [==============================] - 232s 374ms/step - loss: 1.4074 - accuracy: 0.4541 - val_loss: 1.0759 - val_accuracy: 0.5874 - lr: 2.0000e-05\n",
            "Epoch 2/3\n",
            "421/421 [==============================] - 145s 344ms/step - loss: 0.8870 - accuracy: 0.6279 - val_loss: 1.1530 - val_accuracy: 0.5696 - lr: 2.0000e-05\n"
          ]
        }
      ],
      "source": [
        "import os\n",
        "os.environ[\"TF_KERAS\"] = \"1\"\n",
        "\n",
        "import tf_keras as keras\n",
        "from tf_keras.optimizers import Adam\n",
        "from tf_keras.callbacks import EarlyStopping, ReduceLROnPlateau\n",
        "from transformers import TFAutoModelForSequenceClassification\n",
        "\n",
        "# Saltar el entrenamiento si existe un modelo entrenado localmente\n",
        "if SAVE_DIR.exists():\n",
        "    print(\"Found saved model, loading instead of training.\")\n",
        "    model = TFAutoModelForSequenceClassification.from_pretrained(SAVE_DIR)\n",
        "    history = None\n",
        "else:\n",
        "    print(\"Training new model…\")\n",
        "    model = TFAutoModelForSequenceClassification.from_pretrained(\n",
        "        MODEL_NAME, num_labels=NUM_LABELS\n",
        "    )\n",
        "    model.compile(\n",
        "        optimizer=Adam(learning_rate=2e-5),\n",
        "        loss=keras.losses.SparseCategoricalCrossentropy(from_logits=True),\n",
        "        metrics=[keras.metrics.SparseCategoricalAccuracy(name=\"accuracy\")]\n",
        "    )\n",
        "    cbs = [\n",
        "        EarlyStopping(monitor=\"val_loss\", patience=1, restore_best_weights=True),\n",
        "        ReduceLROnPlateau(monitor=\"val_loss\", factor=0.5, patience=1, min_lr=1e-6),\n",
        "    ]\n",
        "\n",
        "    classes = np.unique(y_train)\n",
        "    weights = compute_class_weight(class_weight=\"balanced\", classes=classes, y=y_train)\n",
        "    class_weight = {int(c): float(w) for c, w in zip(classes, weights)}\n",
        "\n",
        "    history = model.fit(train_ds, validation_data=val_ds, epochs=3, callbacks=cbs, verbose=1, class_weight=class_weight)\n",
        "    model.save_pretrained(SAVE_DIR)\n",
        "    tokenizer.save_pretrained(SAVE_DIR)"
      ]
    },
    {
      "cell_type": "code",
      "execution_count": 49,
      "id": "ZXaD9bJsoDTV",
      "metadata": {
        "colab": {
          "base_uri": "https://localhost:8080/",
          "height": 807
        },
        "id": "ZXaD9bJsoDTV",
        "outputId": "e40f6d22-c044-4dce-d5f3-a892d5ddc1d1"
      },
      "outputs": [
        {
          "name": "stdout",
          "output_type": "stream",
          "text": [
            "              precision    recall  f1-score   support\n",
            "\n",
            "       anger       0.32      0.14      0.20        86\n",
            "     disgust       0.13      1.00      0.23        16\n",
            "        fear       0.29      0.67      0.40         9\n",
            "         joy       0.64      0.63      0.63       182\n",
            "      others       0.83      0.61      0.70       413\n",
            "     sadness       0.80      0.69      0.74       101\n",
            "    surprise       0.22      0.59      0.32        34\n",
            "\n",
            "    accuracy                           0.58       841\n",
            "   macro avg       0.46      0.62      0.46       841\n",
            "weighted avg       0.69      0.58      0.61       841\n",
            "\n"
          ]
        },
        {
          "data": {
            "image/png": "[encoded data removed]",
            "text/plain": [
              "<Figure size 800x600 with 2 Axes>"
            ]
          },
          "metadata": {},
          "output_type": "display_data"
        }
      ],
      "source": [
        "# 1) Get logits\n",
        "all_logits = []\n",
        "for inputs, _ in test_ds:\n",
        "    out = model(inputs, training=False)\n",
        "    all_logits.append(out.logits.numpy())\n",
        "logits = np.concatenate(all_logits, axis=0)\n",
        "\n",
        "# 2) Integers → strings\n",
        "y_pred = np.argmax(logits, axis=1)\n",
        "y_true = y_test\n",
        "\n",
        "y_true_str = le.inverse_transform(y_true)\n",
        "y_pred_str = le.inverse_transform(y_pred)\n",
        "\n",
        "f1_model3 = get_f1_per_class(y_true_str, y_pred_str, le.classes_, \"BETO\")\n",
        "df_results = pd.concat([df_results, f1_model3])\n",
        "\n",
        "# Resultados\n",
        "print(classification_report(y_true, y_pred, target_names=le.classes_, zero_division=0))\n",
        "plot_confusion_matrix(y_true_str, y_pred_str, classes=le.classes_)"
      ]
    },
    {
      "cell_type": "markdown",
      "id": "UOzyECzlFSxw",
      "metadata": {
        "id": "UOzyECzlFSxw"
      },
      "source": [
        "### Resultados Modelo 3:\n"
      ]
    },
    {
      "cell_type": "markdown",
      "id": "C2t0TKy4Uq3m",
      "metadata": {
        "id": "C2t0TKy4Uq3m"
      },
      "source": [
        "Como se observó en los otros modelos, las clases de joy, others, y sadness obtuvieron el mejor desempeño con F1-Scores mayores a 0.6.\n",
        "\n",
        "Algo a resaltar en este modelo es que una gran cantidad de ejemplos pertenecientes a anger fueron clasificados como disgust por el modelo. De esta forma, a pesar de tener un recall del 100%, la precisión en esta clase es considerablemente baja (13%). Esto sugiere que el modelo tiene dificultad en diferenciar emociones negativas.\n",
        "\n",
        "\n"
      ]
    },
    {
      "cell_type": "markdown",
      "id": "IZZNKzGgPZ8i",
      "metadata": {
        "id": "IZZNKzGgPZ8i"
      },
      "source": [
        "\n",
        "# Conclusiones"
      ]
    },
    {
      "cell_type": "markdown",
      "id": "p2rx5XSeSDNi",
      "metadata": {
        "id": "p2rx5XSeSDNi"
      },
      "source": [
        "Tabla de F1-Scores para los 3 modelos:"
      ]
    },
    {
      "cell_type": "code",
      "execution_count": 50,
      "id": "VZkm-2pEPbOT",
      "metadata": {
        "colab": {
          "base_uri": "https://localhost:8080/"
        },
        "id": "VZkm-2pEPbOT",
        "outputId": "440121a2-768d-4e8d-ae03-2cbc010a7687"
      },
      "outputs": [
        {
          "name": "stdout",
          "output_type": "stream",
          "text": [
            "          TF-IDF + LR      LSTM      BETO\n",
            "anger        0.457711  0.223214  0.195122\n",
            "disgust      0.119403  0.142857  0.225352\n",
            "fear         0.476190  0.280702  0.400000\n",
            "joy          0.551265  0.468240  0.633333\n",
            "others       0.654181  0.352415  0.699301\n",
            "sadness      0.690176  0.608696  0.744681\n",
            "surprise     0.314286  0.224806  0.322581\n"
          ]
        }
      ],
      "source": [
        "print(df_results.T)"
      ]
    },
    {
      "cell_type": "markdown",
      "id": "QsiBNrTwPgPD",
      "metadata": {
        "id": "QsiBNrTwPgPD"
      },
      "source": [
        "A partir de la tabla, se puede observar mejor cómo los 3 modelos se comparan entre sí.\n",
        "\n",
        "En primer lugar, BETO consigue el mayor F1-Score en la mayoría de categorías, seguido del modelo 1, que consigue el mejor desempeño en anger y fear. El modelo 2 no llega a superar a los otros dos en ninguna clase.\n",
        "\n",
        "Lo anterior puede deberse a varios factores. Las clases de anger y fear pueden estar representadas por palabras clave específicos, que el modelo 1 basado en frecuencia clasifica correctamente en estas clases.\n",
        "\n",
        "Por otro lado, al tener un dataset relativamente pequeño, un modelo de Deep Learning como LSTM tiende a experimentar overfitting y no aprender buenas generalizaciones.\n",
        "\n",
        "BETO destaca por su capacidad para capturar relaciones más complejas entre palabras, lo que se refleja en su mejor rendimiento. No obstante, esto tiene un costo computacional importante, su entrenamiento requiere considerablemente más tiempo y recursos que los otros modelos. A pesar de ello, su mejora sobre el modelo de Logistic Regression es clara, aunque no drástica.\n",
        "\n",
        "En conclusión, para este problema y bajo las limitaciones del dataset, BETO es la opción más robusta y precisa. Sin embargo, si se buscan modelos más livianos, enfoques clásicos como TF-IDF + Logistic Regression aún ofrecen resultados razonablemente competitivos."
      ]
    }
  ],
  "metadata": {
    "accelerator": "GPU",
    "colab": {
      "gpuType": "T4",
      "provenance": []
    },
    "kernelspec": {
      "display_name": "Python 3",
      "name": "python3"
    },
    "language_info": {
      "codemirror_mode": {
        "name": "ipython",
        "version": 3
      },
      "file_extension": ".py",
      "mimetype": "text/x-python",
      "name": "python",
      "nbconvert_exporter": "python",
      "pygments_lexer": "ipython3",
      "version": "3.11.13"
    },
    "widgets": {
      "application/vnd.jupyter.widget-state+json": {
        "015ea6e847be4337b9c1d150ba034250": {
          "model_module": "@jupyter-widgets/base",
          "model_module_version": "1.2.0",
          "model_name": "LayoutModel",
          "state": {
            "_model_module": "@jupyter-widgets/base",
            "_model_module_version": "1.2.0",
            "_model_name": "LayoutModel",
            "_view_count": null,
            "_view_module": "@jupyter-widgets/base",
            "_view_module_version": "1.2.0",
            "_view_name": "LayoutView",
            "align_content": null,
            "align_items": null,
            "align_self": null,
            "border": null,
            "bottom": null,
            "display": null,
            "flex": null,
            "flex_flow": null,
            "grid_area": null,
            "grid_auto_columns": null,
            "grid_auto_flow": null,
            "grid_auto_rows": null,
            "grid_column": null,
            "grid_gap": null,
            "grid_row": null,
            "grid_template_areas": null,
            "grid_template_columns": null,
            "grid_template_rows": null,
            "height": null,
            "justify_content": null,
            "justify_items": null,
            "left": null,
            "margin": null,
            "max_height": null,
            "max_width": null,
            "min_height": null,
            "min_width": null,
            "object_fit": null,
            "object_position": null,
            "order": null,
            "overflow": null,
            "overflow_x": null,
            "overflow_y": null,
            "padding": null,
            "right": null,
            "top": null,
            "visibility": null,
            "width": null
          }
        },
        "04f0a55a4c0348c5888bd52815413d2a": {
          "model_module": "@jupyter-widgets/base",
          "model_module_version": "1.2.0",
          "model_name": "LayoutModel",
          "state": {
            "_model_module": "@jupyter-widgets/base",
            "_model_module_version": "1.2.0",
            "_model_name": "LayoutModel",
            "_view_count": null,
            "_view_module": "@jupyter-widgets/base",
            "_view_module_version": "1.2.0",
            "_view_name": "LayoutView",
            "align_content": null,
            "align_items": null,
            "align_self": null,
            "border": null,
            "bottom": null,
            "display": null,
            "flex": null,
            "flex_flow": null,
            "grid_area": null,
            "grid_auto_columns": null,
            "grid_auto_flow": null,
            "grid_auto_rows": null,
            "grid_column": null,
            "grid_gap": null,
            "grid_row": null,
            "grid_template_areas": null,
            "grid_template_columns": null,
            "grid_template_rows": null,
            "height": null,
            "justify_content": null,
            "justify_items": null,
            "left": null,
            "margin": null,
            "max_height": null,
            "max_width": null,
            "min_height": null,
            "min_width": null,
            "object_fit": null,
            "object_position": null,
            "order": null,
            "overflow": null,
            "overflow_x": null,
            "overflow_y": null,
            "padding": null,
            "right": null,
            "top": null,
            "visibility": null,
            "width": null
          }
        },
        "06df13b7fc6c4c4db304544ea0122c61": {
          "model_module": "@jupyter-widgets/controls",
          "model_module_version": "1.5.0",
          "model_name": "DescriptionStyleModel",
          "state": {
            "_model_module": "@jupyter-widgets/controls",
            "_model_module_version": "1.5.0",
            "_model_name": "DescriptionStyleModel",
            "_view_count": null,
            "_view_module": "@jupyter-widgets/base",
            "_view_module_version": "1.2.0",
            "_view_name": "StyleView",
            "description_width": ""
          }
        },
        "083d57600cb44c8bad18a1bf690eb509": {
          "model_module": "@jupyter-widgets/controls",
          "model_module_version": "1.5.0",
          "model_name": "HBoxModel",
          "state": {
            "_dom_classes": [],
            "_model_module": "@jupyter-widgets/controls",
            "_model_module_version": "1.5.0",
            "_model_name": "HBoxModel",
            "_view_count": null,
            "_view_module": "@jupyter-widgets/controls",
            "_view_module_version": "1.5.0",
            "_view_name": "HBoxView",
            "box_style": "",
            "children": [
              "IPY_MODEL_26b0f61e214c44b78db6439ba8e1ed18",
              "IPY_MODEL_46aaa09be1954906803dc0ee0e187d26",
              "IPY_MODEL_f064184cf41a475d9e33610e0807ab9d"
            ],
            "layout": "IPY_MODEL_f56aebe116c94232bedc500985f292f9"
          }
        },
        "088960603474469e8f98d9f7c867873b": {
          "model_module": "@jupyter-widgets/base",
          "model_module_version": "1.2.0",
          "model_name": "LayoutModel",
          "state": {
            "_model_module": "@jupyter-widgets/base",
            "_model_module_version": "1.2.0",
            "_model_name": "LayoutModel",
            "_view_count": null,
            "_view_module": "@jupyter-widgets/base",
            "_view_module_version": "1.2.0",
            "_view_name": "LayoutView",
            "align_content": null,
            "align_items": null,
            "align_self": null,
            "border": null,
            "bottom": null,
            "display": null,
            "flex": null,
            "flex_flow": null,
            "grid_area": null,
            "grid_auto_columns": null,
            "grid_auto_flow": null,
            "grid_auto_rows": null,
            "grid_column": null,
            "grid_gap": null,
            "grid_row": null,
            "grid_template_areas": null,
            "grid_template_columns": null,
            "grid_template_rows": null,
            "height": null,
            "justify_content": null,
            "justify_items": null,
            "left": null,
            "margin": null,
            "max_height": null,
            "max_width": null,
            "min_height": null,
            "min_width": null,
            "object_fit": null,
            "object_position": null,
            "order": null,
            "overflow": null,
            "overflow_x": null,
            "overflow_y": null,
            "padding": null,
            "right": null,
            "top": null,
            "visibility": null,
            "width": null
          }
        },
        "0b0383624bb24676b2d03be9b2eb69a6": {
          "model_module": "@jupyter-widgets/base",
          "model_module_version": "1.2.0",
          "model_name": "LayoutModel",
          "state": {
            "_model_module": "@jupyter-widgets/base",
            "_model_module_version": "1.2.0",
            "_model_name": "LayoutModel",
            "_view_count": null,
            "_view_module": "@jupyter-widgets/base",
            "_view_module_version": "1.2.0",
            "_view_name": "LayoutView",
            "align_content": null,
            "align_items": null,
            "align_self": null,
            "border": null,
            "bottom": null,
            "display": null,
            "flex": null,
            "flex_flow": null,
            "grid_area": null,
            "grid_auto_columns": null,
            "grid_auto_flow": null,
            "grid_auto_rows": null,
            "grid_column": null,
            "grid_gap": null,
            "grid_row": null,
            "grid_template_areas": null,
            "grid_template_columns": null,
            "grid_template_rows": null,
            "height": null,
            "justify_content": null,
            "justify_items": null,
            "left": null,
            "margin": null,
            "max_height": null,
            "max_width": null,
            "min_height": null,
            "min_width": null,
            "object_fit": null,
            "object_position": null,
            "order": null,
            "overflow": null,
            "overflow_x": null,
            "overflow_y": null,
            "padding": null,
            "right": null,
            "top": null,
            "visibility": null,
            "width": null
          }
        },
        "0f61d392a79c4ca29d30b5b7fedf15c7": {
          "model_module": "@jupyter-widgets/controls",
          "model_module_version": "1.5.0",
          "model_name": "FloatProgressModel",
          "state": {
            "_dom_classes": [],
            "_model_module": "@jupyter-widgets/controls",
            "_model_module_version": "1.5.0",
            "_model_name": "FloatProgressModel",
            "_view_count": null,
            "_view_module": "@jupyter-widgets/controls",
            "_view_module_version": "1.5.0",
            "_view_name": "ProgressView",
            "bar_style": "success",
            "description": "",
            "description_tooltip": null,
            "layout": "IPY_MODEL_591664e207684d068dc8ce663753a284",
            "max": 648,
            "min": 0,
            "orientation": "horizontal",
            "style": "IPY_MODEL_ea7fa63f0ccb4a1bad33fbd2fae6b2bf",
            "value": 648
          }
        },
        "0fb4802f8e674bb6a2ae80520c25caf8": {
          "model_module": "@jupyter-widgets/controls",
          "model_module_version": "1.5.0",
          "model_name": "DescriptionStyleModel",
          "state": {
            "_model_module": "@jupyter-widgets/controls",
            "_model_module_version": "1.5.0",
            "_model_name": "DescriptionStyleModel",
            "_view_count": null,
            "_view_module": "@jupyter-widgets/base",
            "_view_module_version": "1.2.0",
            "_view_name": "StyleView",
            "description_width": ""
          }
        },
        "196dcf2d17404e1095fd20fdf8226874": {
          "model_module": "@jupyter-widgets/base",
          "model_module_version": "1.2.0",
          "model_name": "LayoutModel",
          "state": {
            "_model_module": "@jupyter-widgets/base",
            "_model_module_version": "1.2.0",
            "_model_name": "LayoutModel",
            "_view_count": null,
            "_view_module": "@jupyter-widgets/base",
            "_view_module_version": "1.2.0",
            "_view_name": "LayoutView",
            "align_content": null,
            "align_items": null,
            "align_self": null,
            "border": null,
            "bottom": null,
            "display": null,
            "flex": null,
            "flex_flow": null,
            "grid_area": null,
            "grid_auto_columns": null,
            "grid_auto_flow": null,
            "grid_auto_rows": null,
            "grid_column": null,
            "grid_gap": null,
            "grid_row": null,
            "grid_template_areas": null,
            "grid_template_columns": null,
            "grid_template_rows": null,
            "height": null,
            "justify_content": null,
            "justify_items": null,
            "left": null,
            "margin": null,
            "max_height": null,
            "max_width": null,
            "min_height": null,
            "min_width": null,
            "object_fit": null,
            "object_position": null,
            "order": null,
            "overflow": null,
            "overflow_x": null,
            "overflow_y": null,
            "padding": null,
            "right": null,
            "top": null,
            "visibility": null,
            "width": null
          }
        },
        "19739590a46549beb18c93fb771978e7": {
          "model_module": "@jupyter-widgets/controls",
          "model_module_version": "1.5.0",
          "model_name": "HTMLModel",
          "state": {
            "_dom_classes": [],
            "_model_module": "@jupyter-widgets/controls",
            "_model_module_version": "1.5.0",
            "_model_name": "HTMLModel",
            "_view_count": null,
            "_view_module": "@jupyter-widgets/controls",
            "_view_module_version": "1.5.0",
            "_view_name": "HTMLView",
            "description": "",
            "description_tooltip": null,
            "layout": "IPY_MODEL_82961056f30c4e829133c063e2cec9f9",
            "placeholder": "​",
            "style": "IPY_MODEL_a3dfd94947184802bb5f55192b6eaeb6",
            "value": " 480k/? [00:00&lt;00:00, 24.5MB/s]"
          }
        },
        "19db9279676a4a09b0be9231bf46df79": {
          "model_module": "@jupyter-widgets/controls",
          "model_module_version": "1.5.0",
          "model_name": "DescriptionStyleModel",
          "state": {
            "_model_module": "@jupyter-widgets/controls",
            "_model_module_version": "1.5.0",
            "_model_name": "DescriptionStyleModel",
            "_view_count": null,
            "_view_module": "@jupyter-widgets/base",
            "_view_module_version": "1.2.0",
            "_view_name": "StyleView",
            "description_width": ""
          }
        },
        "1a119544c1be448ea2510f7a989bc6be": {
          "model_module": "@jupyter-widgets/controls",
          "model_module_version": "1.5.0",
          "model_name": "DescriptionStyleModel",
          "state": {
            "_model_module": "@jupyter-widgets/controls",
            "_model_module_version": "1.5.0",
            "_model_name": "DescriptionStyleModel",
            "_view_count": null,
            "_view_module": "@jupyter-widgets/base",
            "_view_module_version": "1.2.0",
            "_view_name": "StyleView",
            "description_width": ""
          }
        },
        "1afc9b05fa554549ab072e098369ba6f": {
          "model_module": "@jupyter-widgets/base",
          "model_module_version": "1.2.0",
          "model_name": "LayoutModel",
          "state": {
            "_model_module": "@jupyter-widgets/base",
            "_model_module_version": "1.2.0",
            "_model_name": "LayoutModel",
            "_view_count": null,
            "_view_module": "@jupyter-widgets/base",
            "_view_module_version": "1.2.0",
            "_view_name": "LayoutView",
            "align_content": null,
            "align_items": null,
            "align_self": null,
            "border": null,
            "bottom": null,
            "display": null,
            "flex": null,
            "flex_flow": null,
            "grid_area": null,
            "grid_auto_columns": null,
            "grid_auto_flow": null,
            "grid_auto_rows": null,
            "grid_column": null,
            "grid_gap": null,
            "grid_row": null,
            "grid_template_areas": null,
            "grid_template_columns": null,
            "grid_template_rows": null,
            "height": null,
            "justify_content": null,
            "justify_items": null,
            "left": null,
            "margin": null,
            "max_height": null,
            "max_width": null,
            "min_height": null,
            "min_width": null,
            "object_fit": null,
            "object_position": null,
            "order": null,
            "overflow": null,
            "overflow_x": null,
            "overflow_y": null,
            "padding": null,
            "right": null,
            "top": null,
            "visibility": null,
            "width": null
          }
        },
        "1b0528fb7d7b457db8f68e22e1f98519": {
          "model_module": "@jupyter-widgets/base",
          "model_module_version": "1.2.0",
          "model_name": "LayoutModel",
          "state": {
            "_model_module": "@jupyter-widgets/base",
            "_model_module_version": "1.2.0",
            "_model_name": "LayoutModel",
            "_view_count": null,
            "_view_module": "@jupyter-widgets/base",
            "_view_module_version": "1.2.0",
            "_view_name": "LayoutView",
            "align_content": null,
            "align_items": null,
            "align_self": null,
            "border": null,
            "bottom": null,
            "display": null,
            "flex": null,
            "flex_flow": null,
            "grid_area": null,
            "grid_auto_columns": null,
            "grid_auto_flow": null,
            "grid_auto_rows": null,
            "grid_column": null,
            "grid_gap": null,
            "grid_row": null,
            "grid_template_areas": null,
            "grid_template_columns": null,
            "grid_template_rows": null,
            "height": null,
            "justify_content": null,
            "justify_items": null,
            "left": null,
            "margin": null,
            "max_height": null,
            "max_width": null,
            "min_height": null,
            "min_width": null,
            "object_fit": null,
            "object_position": null,
            "order": null,
            "overflow": null,
            "overflow_x": null,
            "overflow_y": null,
            "padding": null,
            "right": null,
            "top": null,
            "visibility": null,
            "width": null
          }
        },
        "1ceb115cbdfc4f7fb7cfe4048829e920": {
          "model_module": "@jupyter-widgets/controls",
          "model_module_version": "1.5.0",
          "model_name": "HTMLModel",
          "state": {
            "_dom_classes": [],
            "_model_module": "@jupyter-widgets/controls",
            "_model_module_version": "1.5.0",
            "_model_name": "HTMLModel",
            "_view_count": null,
            "_view_module": "@jupyter-widgets/controls",
            "_view_module_version": "1.5.0",
            "_view_name": "HTMLView",
            "description": "",
            "description_tooltip": null,
            "layout": "IPY_MODEL_59d34382ea734efbb90edce0c7974132",
            "placeholder": "​",
            "style": "IPY_MODEL_ba05d6ffe8a6493885bf0fd2de975b19",
            "value": " 364/364 [00:00&lt;00:00, 21.3kB/s]"
          }
        },
        "26b0f61e214c44b78db6439ba8e1ed18": {
          "model_module": "@jupyter-widgets/controls",
          "model_module_version": "1.5.0",
          "model_name": "HTMLModel",
          "state": {
            "_dom_classes": [],
            "_model_module": "@jupyter-widgets/controls",
            "_model_module_version": "1.5.0",
            "_model_name": "HTMLModel",
            "_view_count": null,
            "_view_module": "@jupyter-widgets/controls",
            "_view_module_version": "1.5.0",
            "_view_name": "HTMLView",
            "description": "",
            "description_tooltip": null,
            "layout": "IPY_MODEL_60a344024624472aa7a8a76caf67be1a",
            "placeholder": "​",
            "style": "IPY_MODEL_db97c8e7b6ec48ca853d39784731ecfe",
            "value": "special_tokens_map.json: 100%"
          }
        },
        "2bb26479113f457fac96a6a87e58fe50": {
          "model_module": "@jupyter-widgets/controls",
          "model_module_version": "1.5.0",
          "model_name": "FloatProgressModel",
          "state": {
            "_dom_classes": [],
            "_model_module": "@jupyter-widgets/controls",
            "_model_module_version": "1.5.0",
            "_model_name": "FloatProgressModel",
            "_view_count": null,
            "_view_module": "@jupyter-widgets/controls",
            "_view_module_version": "1.5.0",
            "_view_name": "ProgressView",
            "bar_style": "success",
            "description": "",
            "description_tooltip": null,
            "layout": "IPY_MODEL_ebe1090c333d4d7cbd94d53beaabc813",
            "max": 1,
            "min": 0,
            "orientation": "horizontal",
            "style": "IPY_MODEL_4cfe7c3157c042cf90ca0fbfd8e8dea0",
            "value": 1
          }
        },
        "30306c33b9c642feb37280192b62a655": {
          "model_module": "@jupyter-widgets/controls",
          "model_module_version": "1.5.0",
          "model_name": "HTMLModel",
          "state": {
            "_dom_classes": [],
            "_model_module": "@jupyter-widgets/controls",
            "_model_module_version": "1.5.0",
            "_model_name": "HTMLModel",
            "_view_count": null,
            "_view_module": "@jupyter-widgets/controls",
            "_view_module_version": "1.5.0",
            "_view_name": "HTMLView",
            "description": "",
            "description_tooltip": null,
            "layout": "IPY_MODEL_ccbd9bcb330d476592ad3dceb047c317",
            "placeholder": "​",
            "style": "IPY_MODEL_c8b633c376f74ef3b4cc0af2493f0a9d",
            "value": " 242k/? [00:00&lt;00:00, 10.4MB/s]"
          }
        },
        "3e479498f2a74cd7bd7ec4056bd04db9": {
          "model_module": "@jupyter-widgets/base",
          "model_module_version": "1.2.0",
          "model_name": "LayoutModel",
          "state": {
            "_model_module": "@jupyter-widgets/base",
            "_model_module_version": "1.2.0",
            "_model_name": "LayoutModel",
            "_view_count": null,
            "_view_module": "@jupyter-widgets/base",
            "_view_module_version": "1.2.0",
            "_view_name": "LayoutView",
            "align_content": null,
            "align_items": null,
            "align_self": null,
            "border": null,
            "bottom": null,
            "display": null,
            "flex": null,
            "flex_flow": null,
            "grid_area": null,
            "grid_auto_columns": null,
            "grid_auto_flow": null,
            "grid_auto_rows": null,
            "grid_column": null,
            "grid_gap": null,
            "grid_row": null,
            "grid_template_areas": null,
            "grid_template_columns": null,
            "grid_template_rows": null,
            "height": null,
            "justify_content": null,
            "justify_items": null,
            "left": null,
            "margin": null,
            "max_height": null,
            "max_width": null,
            "min_height": null,
            "min_width": null,
            "object_fit": null,
            "object_position": null,
            "order": null,
            "overflow": null,
            "overflow_x": null,
            "overflow_y": null,
            "padding": null,
            "right": null,
            "top": null,
            "visibility": null,
            "width": null
          }
        },
        "45e6a9a5131e44bdada5bb1c1ab116a0": {
          "model_module": "@jupyter-widgets/base",
          "model_module_version": "1.2.0",
          "model_name": "LayoutModel",
          "state": {
            "_model_module": "@jupyter-widgets/base",
            "_model_module_version": "1.2.0",
            "_model_name": "LayoutModel",
            "_view_count": null,
            "_view_module": "@jupyter-widgets/base",
            "_view_module_version": "1.2.0",
            "_view_name": "LayoutView",
            "align_content": null,
            "align_items": null,
            "align_self": null,
            "border": null,
            "bottom": null,
            "display": null,
            "flex": null,
            "flex_flow": null,
            "grid_area": null,
            "grid_auto_columns": null,
            "grid_auto_flow": null,
            "grid_auto_rows": null,
            "grid_column": null,
            "grid_gap": null,
            "grid_row": null,
            "grid_template_areas": null,
            "grid_template_columns": null,
            "grid_template_rows": null,
            "height": null,
            "justify_content": null,
            "justify_items": null,
            "left": null,
            "margin": null,
            "max_height": null,
            "max_width": null,
            "min_height": null,
            "min_width": null,
            "object_fit": null,
            "object_position": null,
            "order": null,
            "overflow": null,
            "overflow_x": null,
            "overflow_y": null,
            "padding": null,
            "right": null,
            "top": null,
            "visibility": null,
            "width": null
          }
        },
        "46aaa09be1954906803dc0ee0e187d26": {
          "model_module": "@jupyter-widgets/controls",
          "model_module_version": "1.5.0",
          "model_name": "FloatProgressModel",
          "state": {
            "_dom_classes": [],
            "_model_module": "@jupyter-widgets/controls",
            "_model_module_version": "1.5.0",
            "_model_name": "FloatProgressModel",
            "_view_count": null,
            "_view_module": "@jupyter-widgets/controls",
            "_view_module_version": "1.5.0",
            "_view_name": "ProgressView",
            "bar_style": "success",
            "description": "",
            "description_tooltip": null,
            "layout": "IPY_MODEL_1afc9b05fa554549ab072e098369ba6f",
            "max": 134,
            "min": 0,
            "orientation": "horizontal",
            "style": "IPY_MODEL_92f0cdee05674abb9a04f96dcae14081",
            "value": 134
          }
        },
        "4cfe7c3157c042cf90ca0fbfd8e8dea0": {
          "model_module": "@jupyter-widgets/controls",
          "model_module_version": "1.5.0",
          "model_name": "ProgressStyleModel",
          "state": {
            "_model_module": "@jupyter-widgets/controls",
            "_model_module_version": "1.5.0",
            "_model_name": "ProgressStyleModel",
            "_view_count": null,
            "_view_module": "@jupyter-widgets/base",
            "_view_module_version": "1.2.0",
            "_view_name": "StyleView",
            "bar_color": null,
            "description_width": ""
          }
        },
        "591664e207684d068dc8ce663753a284": {
          "model_module": "@jupyter-widgets/base",
          "model_module_version": "1.2.0",
          "model_name": "LayoutModel",
          "state": {
            "_model_module": "@jupyter-widgets/base",
            "_model_module_version": "1.2.0",
            "_model_name": "LayoutModel",
            "_view_count": null,
            "_view_module": "@jupyter-widgets/base",
            "_view_module_version": "1.2.0",
            "_view_name": "LayoutView",
            "align_content": null,
            "align_items": null,
            "align_self": null,
            "border": null,
            "bottom": null,
            "display": null,
            "flex": null,
            "flex_flow": null,
            "grid_area": null,
            "grid_auto_columns": null,
            "grid_auto_flow": null,
            "grid_auto_rows": null,
            "grid_column": null,
            "grid_gap": null,
            "grid_row": null,
            "grid_template_areas": null,
            "grid_template_columns": null,
            "grid_template_rows": null,
            "height": null,
            "justify_content": null,
            "justify_items": null,
            "left": null,
            "margin": null,
            "max_height": null,
            "max_width": null,
            "min_height": null,
            "min_width": null,
            "object_fit": null,
            "object_position": null,
            "order": null,
            "overflow": null,
            "overflow_x": null,
            "overflow_y": null,
            "padding": null,
            "right": null,
            "top": null,
            "visibility": null,
            "width": null
          }
        },
        "59d34382ea734efbb90edce0c7974132": {
          "model_module": "@jupyter-widgets/base",
          "model_module_version": "1.2.0",
          "model_name": "LayoutModel",
          "state": {
            "_model_module": "@jupyter-widgets/base",
            "_model_module_version": "1.2.0",
            "_model_name": "LayoutModel",
            "_view_count": null,
            "_view_module": "@jupyter-widgets/base",
            "_view_module_version": "1.2.0",
            "_view_name": "LayoutView",
            "align_content": null,
            "align_items": null,
            "align_self": null,
            "border": null,
            "bottom": null,
            "display": null,
            "flex": null,
            "flex_flow": null,
            "grid_area": null,
            "grid_auto_columns": null,
            "grid_auto_flow": null,
            "grid_auto_rows": null,
            "grid_column": null,
            "grid_gap": null,
            "grid_row": null,
            "grid_template_areas": null,
            "grid_template_columns": null,
            "grid_template_rows": null,
            "height": null,
            "justify_content": null,
            "justify_items": null,
            "left": null,
            "margin": null,
            "max_height": null,
            "max_width": null,
            "min_height": null,
            "min_width": null,
            "object_fit": null,
            "object_position": null,
            "order": null,
            "overflow": null,
            "overflow_x": null,
            "overflow_y": null,
            "padding": null,
            "right": null,
            "top": null,
            "visibility": null,
            "width": null
          }
        },
        "5eaa68f4293c45b8af3c45489426cf0a": {
          "model_module": "@jupyter-widgets/controls",
          "model_module_version": "1.5.0",
          "model_name": "HTMLModel",
          "state": {
            "_dom_classes": [],
            "_model_module": "@jupyter-widgets/controls",
            "_model_module_version": "1.5.0",
            "_model_name": "HTMLModel",
            "_view_count": null,
            "_view_module": "@jupyter-widgets/controls",
            "_view_module_version": "1.5.0",
            "_view_name": "HTMLView",
            "description": "",
            "description_tooltip": null,
            "layout": "IPY_MODEL_45e6a9a5131e44bdada5bb1c1ab116a0",
            "placeholder": "​",
            "style": "IPY_MODEL_1a119544c1be448ea2510f7a989bc6be",
            "value": "tf_model.h5: 100%"
          }
        },
        "60a344024624472aa7a8a76caf67be1a": {
          "model_module": "@jupyter-widgets/base",
          "model_module_version": "1.2.0",
          "model_name": "LayoutModel",
          "state": {
            "_model_module": "@jupyter-widgets/base",
            "_model_module_version": "1.2.0",
            "_model_name": "LayoutModel",
            "_view_count": null,
            "_view_module": "@jupyter-widgets/base",
            "_view_module_version": "1.2.0",
            "_view_name": "LayoutView",
            "align_content": null,
            "align_items": null,
            "align_self": null,
            "border": null,
            "bottom": null,
            "display": null,
            "flex": null,
            "flex_flow": null,
            "grid_area": null,
            "grid_auto_columns": null,
            "grid_auto_flow": null,
            "grid_auto_rows": null,
            "grid_column": null,
            "grid_gap": null,
            "grid_row": null,
            "grid_template_areas": null,
            "grid_template_columns": null,
            "grid_template_rows": null,
            "height": null,
            "justify_content": null,
            "justify_items": null,
            "left": null,
            "margin": null,
            "max_height": null,
            "max_width": null,
            "min_height": null,
            "min_width": null,
            "object_fit": null,
            "object_position": null,
            "order": null,
            "overflow": null,
            "overflow_x": null,
            "overflow_y": null,
            "padding": null,
            "right": null,
            "top": null,
            "visibility": null,
            "width": null
          }
        },
        "60c347a469cc4831b781a695ce16e8e1": {
          "model_module": "@jupyter-widgets/base",
          "model_module_version": "1.2.0",
          "model_name": "LayoutModel",
          "state": {
            "_model_module": "@jupyter-widgets/base",
            "_model_module_version": "1.2.0",
            "_model_name": "LayoutModel",
            "_view_count": null,
            "_view_module": "@jupyter-widgets/base",
            "_view_module_version": "1.2.0",
            "_view_name": "LayoutView",
            "align_content": null,
            "align_items": null,
            "align_self": null,
            "border": null,
            "bottom": null,
            "display": null,
            "flex": null,
            "flex_flow": null,
            "grid_area": null,
            "grid_auto_columns": null,
            "grid_auto_flow": null,
            "grid_auto_rows": null,
            "grid_column": null,
            "grid_gap": null,
            "grid_row": null,
            "grid_template_areas": null,
            "grid_template_columns": null,
            "grid_template_rows": null,
            "height": null,
            "justify_content": null,
            "justify_items": null,
            "left": null,
            "margin": null,
            "max_height": null,
            "max_width": null,
            "min_height": null,
            "min_width": null,
            "object_fit": null,
            "object_position": null,
            "order": null,
            "overflow": null,
            "overflow_x": null,
            "overflow_y": null,
            "padding": null,
            "right": null,
            "top": null,
            "visibility": null,
            "width": null
          }
        },
        "6a220e95700548cbbdbaab91b3e74b88": {
          "model_module": "@jupyter-widgets/base",
          "model_module_version": "1.2.0",
          "model_name": "LayoutModel",
          "state": {
            "_model_module": "@jupyter-widgets/base",
            "_model_module_version": "1.2.0",
            "_model_name": "LayoutModel",
            "_view_count": null,
            "_view_module": "@jupyter-widgets/base",
            "_view_module_version": "1.2.0",
            "_view_name": "LayoutView",
            "align_content": null,
            "align_items": null,
            "align_self": null,
            "border": null,
            "bottom": null,
            "display": null,
            "flex": null,
            "flex_flow": null,
            "grid_area": null,
            "grid_auto_columns": null,
            "grid_auto_flow": null,
            "grid_auto_rows": null,
            "grid_column": null,
            "grid_gap": null,
            "grid_row": null,
            "grid_template_areas": null,
            "grid_template_columns": null,
            "grid_template_rows": null,
            "height": null,
            "justify_content": null,
            "justify_items": null,
            "left": null,
            "margin": null,
            "max_height": null,
            "max_width": null,
            "min_height": null,
            "min_width": null,
            "object_fit": null,
            "object_position": null,
            "order": null,
            "overflow": null,
            "overflow_x": null,
            "overflow_y": null,
            "padding": null,
            "right": null,
            "top": null,
            "visibility": null,
            "width": null
          }
        },
        "7a1cf59e11794893b87de7e2de588bd5": {
          "model_module": "@jupyter-widgets/controls",
          "model_module_version": "1.5.0",
          "model_name": "DescriptionStyleModel",
          "state": {
            "_model_module": "@jupyter-widgets/controls",
            "_model_module_version": "1.5.0",
            "_model_name": "DescriptionStyleModel",
            "_view_count": null,
            "_view_module": "@jupyter-widgets/base",
            "_view_module_version": "1.2.0",
            "_view_name": "StyleView",
            "description_width": ""
          }
        },
        "81f0e912020e42209426b373a14dbddf": {
          "model_module": "@jupyter-widgets/base",
          "model_module_version": "1.2.0",
          "model_name": "LayoutModel",
          "state": {
            "_model_module": "@jupyter-widgets/base",
            "_model_module_version": "1.2.0",
            "_model_name": "LayoutModel",
            "_view_count": null,
            "_view_module": "@jupyter-widgets/base",
            "_view_module_version": "1.2.0",
            "_view_name": "LayoutView",
            "align_content": null,
            "align_items": null,
            "align_self": null,
            "border": null,
            "bottom": null,
            "display": null,
            "flex": null,
            "flex_flow": null,
            "grid_area": null,
            "grid_auto_columns": null,
            "grid_auto_flow": null,
            "grid_auto_rows": null,
            "grid_column": null,
            "grid_gap": null,
            "grid_row": null,
            "grid_template_areas": null,
            "grid_template_columns": null,
            "grid_template_rows": null,
            "height": null,
            "justify_content": null,
            "justify_items": null,
            "left": null,
            "margin": null,
            "max_height": null,
            "max_width": null,
            "min_height": null,
            "min_width": null,
            "object_fit": null,
            "object_position": null,
            "order": null,
            "overflow": null,
            "overflow_x": null,
            "overflow_y": null,
            "padding": null,
            "right": null,
            "top": null,
            "visibility": null,
            "width": null
          }
        },
        "82961056f30c4e829133c063e2cec9f9": {
          "model_module": "@jupyter-widgets/base",
          "model_module_version": "1.2.0",
          "model_name": "LayoutModel",
          "state": {
            "_model_module": "@jupyter-widgets/base",
            "_model_module_version": "1.2.0",
            "_model_name": "LayoutModel",
            "_view_count": null,
            "_view_module": "@jupyter-widgets/base",
            "_view_module_version": "1.2.0",
            "_view_name": "LayoutView",
            "align_content": null,
            "align_items": null,
            "align_self": null,
            "border": null,
            "bottom": null,
            "display": null,
            "flex": null,
            "flex_flow": null,
            "grid_area": null,
            "grid_auto_columns": null,
            "grid_auto_flow": null,
            "grid_auto_rows": null,
            "grid_column": null,
            "grid_gap": null,
            "grid_row": null,
            "grid_template_areas": null,
            "grid_template_columns": null,
            "grid_template_rows": null,
            "height": null,
            "justify_content": null,
            "justify_items": null,
            "left": null,
            "margin": null,
            "max_height": null,
            "max_width": null,
            "min_height": null,
            "min_width": null,
            "object_fit": null,
            "object_position": null,
            "order": null,
            "overflow": null,
            "overflow_x": null,
            "overflow_y": null,
            "padding": null,
            "right": null,
            "top": null,
            "visibility": null,
            "width": null
          }
        },
        "87e07f3180ed47a18da331563fcbd5fb": {
          "model_module": "@jupyter-widgets/base",
          "model_module_version": "1.2.0",
          "model_name": "LayoutModel",
          "state": {
            "_model_module": "@jupyter-widgets/base",
            "_model_module_version": "1.2.0",
            "_model_name": "LayoutModel",
            "_view_count": null,
            "_view_module": "@jupyter-widgets/base",
            "_view_module_version": "1.2.0",
            "_view_name": "LayoutView",
            "align_content": null,
            "align_items": null,
            "align_self": null,
            "border": null,
            "bottom": null,
            "display": null,
            "flex": null,
            "flex_flow": null,
            "grid_area": null,
            "grid_auto_columns": null,
            "grid_auto_flow": null,
            "grid_auto_rows": null,
            "grid_column": null,
            "grid_gap": null,
            "grid_row": null,
            "grid_template_areas": null,
            "grid_template_columns": null,
            "grid_template_rows": null,
            "height": null,
            "justify_content": null,
            "justify_items": null,
            "left": null,
            "margin": null,
            "max_height": null,
            "max_width": null,
            "min_height": null,
            "min_width": null,
            "object_fit": null,
            "object_position": null,
            "order": null,
            "overflow": null,
            "overflow_x": null,
            "overflow_y": null,
            "padding": null,
            "right": null,
            "top": null,
            "visibility": null,
            "width": null
          }
        },
        "8bc962e6c90241fa8e0991036ffa9e47": {
          "model_module": "@jupyter-widgets/base",
          "model_module_version": "1.2.0",
          "model_name": "LayoutModel",
          "state": {
            "_model_module": "@jupyter-widgets/base",
            "_model_module_version": "1.2.0",
            "_model_name": "LayoutModel",
            "_view_count": null,
            "_view_module": "@jupyter-widgets/base",
            "_view_module_version": "1.2.0",
            "_view_name": "LayoutView",
            "align_content": null,
            "align_items": null,
            "align_self": null,
            "border": null,
            "bottom": null,
            "display": null,
            "flex": null,
            "flex_flow": null,
            "grid_area": null,
            "grid_auto_columns": null,
            "grid_auto_flow": null,
            "grid_auto_rows": null,
            "grid_column": null,
            "grid_gap": null,
            "grid_row": null,
            "grid_template_areas": null,
            "grid_template_columns": null,
            "grid_template_rows": null,
            "height": null,
            "justify_content": null,
            "justify_items": null,
            "left": null,
            "margin": null,
            "max_height": null,
            "max_width": null,
            "min_height": null,
            "min_width": null,
            "object_fit": null,
            "object_position": null,
            "order": null,
            "overflow": null,
            "overflow_x": null,
            "overflow_y": null,
            "padding": null,
            "right": null,
            "top": null,
            "visibility": null,
            "width": null
          }
        },
        "8dfd14e3d6a244248725e396154fa699": {
          "model_module": "@jupyter-widgets/controls",
          "model_module_version": "1.5.0",
          "model_name": "FloatProgressModel",
          "state": {
            "_dom_classes": [],
            "_model_module": "@jupyter-widgets/controls",
            "_model_module_version": "1.5.0",
            "_model_name": "FloatProgressModel",
            "_view_count": null,
            "_view_module": "@jupyter-widgets/controls",
            "_view_module_version": "1.5.0",
            "_view_name": "ProgressView",
            "bar_style": "success",
            "description": "",
            "description_tooltip": null,
            "layout": "IPY_MODEL_088960603474469e8f98d9f7c867873b",
            "max": 364,
            "min": 0,
            "orientation": "horizontal",
            "style": "IPY_MODEL_b8215067b30e4c619c9ff46615664486",
            "value": 364
          }
        },
        "92cdf709f41e426085c12bf6b75f9529": {
          "model_module": "@jupyter-widgets/controls",
          "model_module_version": "1.5.0",
          "model_name": "ProgressStyleModel",
          "state": {
            "_model_module": "@jupyter-widgets/controls",
            "_model_module_version": "1.5.0",
            "_model_name": "ProgressStyleModel",
            "_view_count": null,
            "_view_module": "@jupyter-widgets/base",
            "_view_module_version": "1.2.0",
            "_view_name": "StyleView",
            "bar_color": null,
            "description_width": ""
          }
        },
        "92f0cdee05674abb9a04f96dcae14081": {
          "model_module": "@jupyter-widgets/controls",
          "model_module_version": "1.5.0",
          "model_name": "ProgressStyleModel",
          "state": {
            "_model_module": "@jupyter-widgets/controls",
            "_model_module_version": "1.5.0",
            "_model_name": "ProgressStyleModel",
            "_view_count": null,
            "_view_module": "@jupyter-widgets/base",
            "_view_module_version": "1.2.0",
            "_view_name": "StyleView",
            "bar_color": null,
            "description_width": ""
          }
        },
        "93776e5f274b49f8855197b3502a197e": {
          "model_module": "@jupyter-widgets/controls",
          "model_module_version": "1.5.0",
          "model_name": "ProgressStyleModel",
          "state": {
            "_model_module": "@jupyter-widgets/controls",
            "_model_module_version": "1.5.0",
            "_model_name": "ProgressStyleModel",
            "_view_count": null,
            "_view_module": "@jupyter-widgets/base",
            "_view_module_version": "1.2.0",
            "_view_name": "StyleView",
            "bar_color": null,
            "description_width": ""
          }
        },
        "9550dbc23c12459ba0a21331d1725a57": {
          "model_module": "@jupyter-widgets/controls",
          "model_module_version": "1.5.0",
          "model_name": "HTMLModel",
          "state": {
            "_dom_classes": [],
            "_model_module": "@jupyter-widgets/controls",
            "_model_module_version": "1.5.0",
            "_model_name": "HTMLModel",
            "_view_count": null,
            "_view_module": "@jupyter-widgets/controls",
            "_view_module_version": "1.5.0",
            "_view_name": "HTMLView",
            "description": "",
            "description_tooltip": null,
            "layout": "IPY_MODEL_04f0a55a4c0348c5888bd52815413d2a",
            "placeholder": "​",
            "style": "IPY_MODEL_0fb4802f8e674bb6a2ae80520c25caf8",
            "value": "vocab.txt: "
          }
        },
        "95d18d7961d5462ab8dc3442a08b37e7": {
          "model_module": "@jupyter-widgets/base",
          "model_module_version": "1.2.0",
          "model_name": "LayoutModel",
          "state": {
            "_model_module": "@jupyter-widgets/base",
            "_model_module_version": "1.2.0",
            "_model_name": "LayoutModel",
            "_view_count": null,
            "_view_module": "@jupyter-widgets/base",
            "_view_module_version": "1.2.0",
            "_view_name": "LayoutView",
            "align_content": null,
            "align_items": null,
            "align_self": null,
            "border": null,
            "bottom": null,
            "display": null,
            "flex": null,
            "flex_flow": null,
            "grid_area": null,
            "grid_auto_columns": null,
            "grid_auto_flow": null,
            "grid_auto_rows": null,
            "grid_column": null,
            "grid_gap": null,
            "grid_row": null,
            "grid_template_areas": null,
            "grid_template_columns": null,
            "grid_template_rows": null,
            "height": null,
            "justify_content": null,
            "justify_items": null,
            "left": null,
            "margin": null,
            "max_height": null,
            "max_width": null,
            "min_height": null,
            "min_width": null,
            "object_fit": null,
            "object_position": null,
            "order": null,
            "overflow": null,
            "overflow_x": null,
            "overflow_y": null,
            "padding": null,
            "right": null,
            "top": null,
            "visibility": null,
            "width": null
          }
        },
        "a3dfd94947184802bb5f55192b6eaeb6": {
          "model_module": "@jupyter-widgets/controls",
          "model_module_version": "1.5.0",
          "model_name": "DescriptionStyleModel",
          "state": {
            "_model_module": "@jupyter-widgets/controls",
            "_model_module_version": "1.5.0",
            "_model_name": "DescriptionStyleModel",
            "_view_count": null,
            "_view_module": "@jupyter-widgets/base",
            "_view_module_version": "1.2.0",
            "_view_name": "StyleView",
            "description_width": ""
          }
        },
        "abf00f21ba264e04a37979acd4de295c": {
          "model_module": "@jupyter-widgets/controls",
          "model_module_version": "1.5.0",
          "model_name": "DescriptionStyleModel",
          "state": {
            "_model_module": "@jupyter-widgets/controls",
            "_model_module_version": "1.5.0",
            "_model_name": "DescriptionStyleModel",
            "_view_count": null,
            "_view_module": "@jupyter-widgets/base",
            "_view_module_version": "1.2.0",
            "_view_name": "StyleView",
            "description_width": ""
          }
        },
        "b312b8a9ed654db8bb977db50b059fa5": {
          "model_module": "@jupyter-widgets/base",
          "model_module_version": "1.2.0",
          "model_name": "LayoutModel",
          "state": {
            "_model_module": "@jupyter-widgets/base",
            "_model_module_version": "1.2.0",
            "_model_name": "LayoutModel",
            "_view_count": null,
            "_view_module": "@jupyter-widgets/base",
            "_view_module_version": "1.2.0",
            "_view_name": "LayoutView",
            "align_content": null,
            "align_items": null,
            "align_self": null,
            "border": null,
            "bottom": null,
            "display": null,
            "flex": null,
            "flex_flow": null,
            "grid_area": null,
            "grid_auto_columns": null,
            "grid_auto_flow": null,
            "grid_auto_rows": null,
            "grid_column": null,
            "grid_gap": null,
            "grid_row": null,
            "grid_template_areas": null,
            "grid_template_columns": null,
            "grid_template_rows": null,
            "height": null,
            "justify_content": null,
            "justify_items": null,
            "left": null,
            "margin": null,
            "max_height": null,
            "max_width": null,
            "min_height": null,
            "min_width": null,
            "object_fit": null,
            "object_position": null,
            "order": null,
            "overflow": null,
            "overflow_x": null,
            "overflow_y": null,
            "padding": null,
            "right": null,
            "top": null,
            "visibility": null,
            "width": null
          }
        },
        "b3844cede9bb4120830f613821e4108c": {
          "model_module": "@jupyter-widgets/base",
          "model_module_version": "1.2.0",
          "model_name": "LayoutModel",
          "state": {
            "_model_module": "@jupyter-widgets/base",
            "_model_module_version": "1.2.0",
            "_model_name": "LayoutModel",
            "_view_count": null,
            "_view_module": "@jupyter-widgets/base",
            "_view_module_version": "1.2.0",
            "_view_name": "LayoutView",
            "align_content": null,
            "align_items": null,
            "align_self": null,
            "border": null,
            "bottom": null,
            "display": null,
            "flex": null,
            "flex_flow": null,
            "grid_area": null,
            "grid_auto_columns": null,
            "grid_auto_flow": null,
            "grid_auto_rows": null,
            "grid_column": null,
            "grid_gap": null,
            "grid_row": null,
            "grid_template_areas": null,
            "grid_template_columns": null,
            "grid_template_rows": null,
            "height": null,
            "justify_content": null,
            "justify_items": null,
            "left": null,
            "margin": null,
            "max_height": null,
            "max_width": null,
            "min_height": null,
            "min_width": null,
            "object_fit": null,
            "object_position": null,
            "order": null,
            "overflow": null,
            "overflow_x": null,
            "overflow_y": null,
            "padding": null,
            "right": null,
            "top": null,
            "visibility": null,
            "width": "20px"
          }
        },
        "b750eea24b2442b8901669c91156b6d7": {
          "model_module": "@jupyter-widgets/controls",
          "model_module_version": "1.5.0",
          "model_name": "HBoxModel",
          "state": {
            "_dom_classes": [],
            "_model_module": "@jupyter-widgets/controls",
            "_model_module_version": "1.5.0",
            "_model_name": "HBoxModel",
            "_view_count": null,
            "_view_module": "@jupyter-widgets/controls",
            "_view_module_version": "1.5.0",
            "_view_name": "HBoxView",
            "box_style": "",
            "children": [
              "IPY_MODEL_dd2cc61c88a24a77b401798b699150a6",
              "IPY_MODEL_8dfd14e3d6a244248725e396154fa699",
              "IPY_MODEL_1ceb115cbdfc4f7fb7cfe4048829e920"
            ],
            "layout": "IPY_MODEL_0b0383624bb24676b2d03be9b2eb69a6"
          }
        },
        "b8215067b30e4c619c9ff46615664486": {
          "model_module": "@jupyter-widgets/controls",
          "model_module_version": "1.5.0",
          "model_name": "ProgressStyleModel",
          "state": {
            "_model_module": "@jupyter-widgets/controls",
            "_model_module_version": "1.5.0",
            "_model_name": "ProgressStyleModel",
            "_view_count": null,
            "_view_module": "@jupyter-widgets/base",
            "_view_module_version": "1.2.0",
            "_view_name": "StyleView",
            "bar_color": null,
            "description_width": ""
          }
        },
        "ba05d6ffe8a6493885bf0fd2de975b19": {
          "model_module": "@jupyter-widgets/controls",
          "model_module_version": "1.5.0",
          "model_name": "DescriptionStyleModel",
          "state": {
            "_model_module": "@jupyter-widgets/controls",
            "_model_module_version": "1.5.0",
            "_model_name": "DescriptionStyleModel",
            "_view_count": null,
            "_view_module": "@jupyter-widgets/base",
            "_view_module_version": "1.2.0",
            "_view_name": "StyleView",
            "description_width": ""
          }
        },
        "bf86d674a9084670b480ac7b51933a44": {
          "model_module": "@jupyter-widgets/controls",
          "model_module_version": "1.5.0",
          "model_name": "HBoxModel",
          "state": {
            "_dom_classes": [],
            "_model_module": "@jupyter-widgets/controls",
            "_model_module_version": "1.5.0",
            "_model_name": "HBoxModel",
            "_view_count": null,
            "_view_module": "@jupyter-widgets/controls",
            "_view_module_version": "1.5.0",
            "_view_name": "HBoxView",
            "box_style": "",
            "children": [
              "IPY_MODEL_9550dbc23c12459ba0a21331d1725a57",
              "IPY_MODEL_2bb26479113f457fac96a6a87e58fe50",
              "IPY_MODEL_30306c33b9c642feb37280192b62a655"
            ],
            "layout": "IPY_MODEL_3e479498f2a74cd7bd7ec4056bd04db9"
          }
        },
        "c00ab059fa584eddb6d473c669ac3d82": {
          "model_module": "@jupyter-widgets/controls",
          "model_module_version": "1.5.0",
          "model_name": "DescriptionStyleModel",
          "state": {
            "_model_module": "@jupyter-widgets/controls",
            "_model_module_version": "1.5.0",
            "_model_name": "DescriptionStyleModel",
            "_view_count": null,
            "_view_module": "@jupyter-widgets/base",
            "_view_module_version": "1.2.0",
            "_view_name": "StyleView",
            "description_width": ""
          }
        },
        "c030f3ff9ed940adabc049df5bd23f31": {
          "model_module": "@jupyter-widgets/controls",
          "model_module_version": "1.5.0",
          "model_name": "HTMLModel",
          "state": {
            "_dom_classes": [],
            "_model_module": "@jupyter-widgets/controls",
            "_model_module_version": "1.5.0",
            "_model_name": "HTMLModel",
            "_view_count": null,
            "_view_module": "@jupyter-widgets/controls",
            "_view_module_version": "1.5.0",
            "_view_name": "HTMLView",
            "description": "",
            "description_tooltip": null,
            "layout": "IPY_MODEL_81f0e912020e42209426b373a14dbddf",
            "placeholder": "​",
            "style": "IPY_MODEL_7a1cf59e11794893b87de7e2de588bd5",
            "value": "tokenizer.json: "
          }
        },
        "c51a9f9c048e4d8599bea5d0e593c185": {
          "model_module": "@jupyter-widgets/controls",
          "model_module_version": "1.5.0",
          "model_name": "FloatProgressModel",
          "state": {
            "_dom_classes": [],
            "_model_module": "@jupyter-widgets/controls",
            "_model_module_version": "1.5.0",
            "_model_name": "FloatProgressModel",
            "_view_count": null,
            "_view_module": "@jupyter-widgets/controls",
            "_view_module_version": "1.5.0",
            "_view_name": "ProgressView",
            "bar_style": "success",
            "description": "",
            "description_tooltip": null,
            "layout": "IPY_MODEL_1b0528fb7d7b457db8f68e22e1f98519",
            "max": 536635336,
            "min": 0,
            "orientation": "horizontal",
            "style": "IPY_MODEL_92cdf709f41e426085c12bf6b75f9529",
            "value": 536635336
          }
        },
        "c8a46979dead46a7adfa4c513ae1dcde": {
          "model_module": "@jupyter-widgets/controls",
          "model_module_version": "1.5.0",
          "model_name": "HBoxModel",
          "state": {
            "_dom_classes": [],
            "_model_module": "@jupyter-widgets/controls",
            "_model_module_version": "1.5.0",
            "_model_name": "HBoxModel",
            "_view_count": null,
            "_view_module": "@jupyter-widgets/controls",
            "_view_module_version": "1.5.0",
            "_view_name": "HBoxView",
            "box_style": "",
            "children": [
              "IPY_MODEL_fba6ca2a62894d1bb64f3163671191b1",
              "IPY_MODEL_0f61d392a79c4ca29d30b5b7fedf15c7",
              "IPY_MODEL_f21760d56b354a53b61bd7014dfe14d8"
            ],
            "layout": "IPY_MODEL_6a220e95700548cbbdbaab91b3e74b88"
          }
        },
        "c8b633c376f74ef3b4cc0af2493f0a9d": {
          "model_module": "@jupyter-widgets/controls",
          "model_module_version": "1.5.0",
          "model_name": "DescriptionStyleModel",
          "state": {
            "_model_module": "@jupyter-widgets/controls",
            "_model_module_version": "1.5.0",
            "_model_name": "DescriptionStyleModel",
            "_view_count": null,
            "_view_module": "@jupyter-widgets/base",
            "_view_module_version": "1.2.0",
            "_view_name": "StyleView",
            "description_width": ""
          }
        },
        "ccbd9bcb330d476592ad3dceb047c317": {
          "model_module": "@jupyter-widgets/base",
          "model_module_version": "1.2.0",
          "model_name": "LayoutModel",
          "state": {
            "_model_module": "@jupyter-widgets/base",
            "_model_module_version": "1.2.0",
            "_model_name": "LayoutModel",
            "_view_count": null,
            "_view_module": "@jupyter-widgets/base",
            "_view_module_version": "1.2.0",
            "_view_name": "LayoutView",
            "align_content": null,
            "align_items": null,
            "align_self": null,
            "border": null,
            "bottom": null,
            "display": null,
            "flex": null,
            "flex_flow": null,
            "grid_area": null,
            "grid_auto_columns": null,
            "grid_auto_flow": null,
            "grid_auto_rows": null,
            "grid_column": null,
            "grid_gap": null,
            "grid_row": null,
            "grid_template_areas": null,
            "grid_template_columns": null,
            "grid_template_rows": null,
            "height": null,
            "justify_content": null,
            "justify_items": null,
            "left": null,
            "margin": null,
            "max_height": null,
            "max_width": null,
            "min_height": null,
            "min_width": null,
            "object_fit": null,
            "object_position": null,
            "order": null,
            "overflow": null,
            "overflow_x": null,
            "overflow_y": null,
            "padding": null,
            "right": null,
            "top": null,
            "visibility": null,
            "width": null
          }
        },
        "cff9dfc997924a2d8ab0e2b0519c7f72": {
          "model_module": "@jupyter-widgets/controls",
          "model_module_version": "1.5.0",
          "model_name": "HBoxModel",
          "state": {
            "_dom_classes": [],
            "_model_module": "@jupyter-widgets/controls",
            "_model_module_version": "1.5.0",
            "_model_name": "HBoxModel",
            "_view_count": null,
            "_view_module": "@jupyter-widgets/controls",
            "_view_module_version": "1.5.0",
            "_view_name": "HBoxView",
            "box_style": "",
            "children": [
              "IPY_MODEL_5eaa68f4293c45b8af3c45489426cf0a",
              "IPY_MODEL_c51a9f9c048e4d8599bea5d0e593c185",
              "IPY_MODEL_e092d77f5c384103812d3d7dc67b373b"
            ],
            "layout": "IPY_MODEL_8bc962e6c90241fa8e0991036ffa9e47"
          }
        },
        "db97c8e7b6ec48ca853d39784731ecfe": {
          "model_module": "@jupyter-widgets/controls",
          "model_module_version": "1.5.0",
          "model_name": "DescriptionStyleModel",
          "state": {
            "_model_module": "@jupyter-widgets/controls",
            "_model_module_version": "1.5.0",
            "_model_name": "DescriptionStyleModel",
            "_view_count": null,
            "_view_module": "@jupyter-widgets/base",
            "_view_module_version": "1.2.0",
            "_view_name": "StyleView",
            "description_width": ""
          }
        },
        "dd2cc61c88a24a77b401798b699150a6": {
          "model_module": "@jupyter-widgets/controls",
          "model_module_version": "1.5.0",
          "model_name": "HTMLModel",
          "state": {
            "_dom_classes": [],
            "_model_module": "@jupyter-widgets/controls",
            "_model_module_version": "1.5.0",
            "_model_name": "HTMLModel",
            "_view_count": null,
            "_view_module": "@jupyter-widgets/controls",
            "_view_module_version": "1.5.0",
            "_view_name": "HTMLView",
            "description": "",
            "description_tooltip": null,
            "layout": "IPY_MODEL_196dcf2d17404e1095fd20fdf8226874",
            "placeholder": "​",
            "style": "IPY_MODEL_06df13b7fc6c4c4db304544ea0122c61",
            "value": "tokenizer_config.json: 100%"
          }
        },
        "e092d77f5c384103812d3d7dc67b373b": {
          "model_module": "@jupyter-widgets/controls",
          "model_module_version": "1.5.0",
          "model_name": "HTMLModel",
          "state": {
            "_dom_classes": [],
            "_model_module": "@jupyter-widgets/controls",
            "_model_module_version": "1.5.0",
            "_model_name": "HTMLModel",
            "_view_count": null,
            "_view_module": "@jupyter-widgets/controls",
            "_view_module_version": "1.5.0",
            "_view_name": "HTMLView",
            "description": "",
            "description_tooltip": null,
            "layout": "IPY_MODEL_b312b8a9ed654db8bb977db50b059fa5",
            "placeholder": "​",
            "style": "IPY_MODEL_abf00f21ba264e04a37979acd4de295c",
            "value": " 537M/537M [00:10&lt;00:00, 59.1MB/s]"
          }
        },
        "e8f6ee2a33744eed8ec1a922fb620a88": {
          "model_module": "@jupyter-widgets/controls",
          "model_module_version": "1.5.0",
          "model_name": "FloatProgressModel",
          "state": {
            "_dom_classes": [],
            "_model_module": "@jupyter-widgets/controls",
            "_model_module_version": "1.5.0",
            "_model_name": "FloatProgressModel",
            "_view_count": null,
            "_view_module": "@jupyter-widgets/controls",
            "_view_module_version": "1.5.0",
            "_view_name": "ProgressView",
            "bar_style": "success",
            "description": "",
            "description_tooltip": null,
            "layout": "IPY_MODEL_b3844cede9bb4120830f613821e4108c",
            "max": 1,
            "min": 0,
            "orientation": "horizontal",
            "style": "IPY_MODEL_93776e5f274b49f8855197b3502a197e",
            "value": 1
          }
        },
        "ea7fa63f0ccb4a1bad33fbd2fae6b2bf": {
          "model_module": "@jupyter-widgets/controls",
          "model_module_version": "1.5.0",
          "model_name": "ProgressStyleModel",
          "state": {
            "_model_module": "@jupyter-widgets/controls",
            "_model_module_version": "1.5.0",
            "_model_name": "ProgressStyleModel",
            "_view_count": null,
            "_view_module": "@jupyter-widgets/base",
            "_view_module_version": "1.2.0",
            "_view_name": "StyleView",
            "bar_color": null,
            "description_width": ""
          }
        },
        "ebe1090c333d4d7cbd94d53beaabc813": {
          "model_module": "@jupyter-widgets/base",
          "model_module_version": "1.2.0",
          "model_name": "LayoutModel",
          "state": {
            "_model_module": "@jupyter-widgets/base",
            "_model_module_version": "1.2.0",
            "_model_name": "LayoutModel",
            "_view_count": null,
            "_view_module": "@jupyter-widgets/base",
            "_view_module_version": "1.2.0",
            "_view_name": "LayoutView",
            "align_content": null,
            "align_items": null,
            "align_self": null,
            "border": null,
            "bottom": null,
            "display": null,
            "flex": null,
            "flex_flow": null,
            "grid_area": null,
            "grid_auto_columns": null,
            "grid_auto_flow": null,
            "grid_auto_rows": null,
            "grid_column": null,
            "grid_gap": null,
            "grid_row": null,
            "grid_template_areas": null,
            "grid_template_columns": null,
            "grid_template_rows": null,
            "height": null,
            "justify_content": null,
            "justify_items": null,
            "left": null,
            "margin": null,
            "max_height": null,
            "max_width": null,
            "min_height": null,
            "min_width": null,
            "object_fit": null,
            "object_position": null,
            "order": null,
            "overflow": null,
            "overflow_x": null,
            "overflow_y": null,
            "padding": null,
            "right": null,
            "top": null,
            "visibility": null,
            "width": "20px"
          }
        },
        "ee7f36020a9c4f29ab34908e19b68def": {
          "model_module": "@jupyter-widgets/controls",
          "model_module_version": "1.5.0",
          "model_name": "HBoxModel",
          "state": {
            "_dom_classes": [],
            "_model_module": "@jupyter-widgets/controls",
            "_model_module_version": "1.5.0",
            "_model_name": "HBoxModel",
            "_view_count": null,
            "_view_module": "@jupyter-widgets/controls",
            "_view_module_version": "1.5.0",
            "_view_name": "HBoxView",
            "box_style": "",
            "children": [
              "IPY_MODEL_c030f3ff9ed940adabc049df5bd23f31",
              "IPY_MODEL_e8f6ee2a33744eed8ec1a922fb620a88",
              "IPY_MODEL_19739590a46549beb18c93fb771978e7"
            ],
            "layout": "IPY_MODEL_015ea6e847be4337b9c1d150ba034250"
          }
        },
        "f064184cf41a475d9e33610e0807ab9d": {
          "model_module": "@jupyter-widgets/controls",
          "model_module_version": "1.5.0",
          "model_name": "HTMLModel",
          "state": {
            "_dom_classes": [],
            "_model_module": "@jupyter-widgets/controls",
            "_model_module_version": "1.5.0",
            "_model_name": "HTMLModel",
            "_view_count": null,
            "_view_module": "@jupyter-widgets/controls",
            "_view_module_version": "1.5.0",
            "_view_name": "HTMLView",
            "description": "",
            "description_tooltip": null,
            "layout": "IPY_MODEL_87e07f3180ed47a18da331563fcbd5fb",
            "placeholder": "​",
            "style": "IPY_MODEL_c00ab059fa584eddb6d473c669ac3d82",
            "value": " 134/134 [00:00&lt;00:00, 15.0kB/s]"
          }
        },
        "f21760d56b354a53b61bd7014dfe14d8": {
          "model_module": "@jupyter-widgets/controls",
          "model_module_version": "1.5.0",
          "model_name": "HTMLModel",
          "state": {
            "_dom_classes": [],
            "_model_module": "@jupyter-widgets/controls",
            "_model_module_version": "1.5.0",
            "_model_name": "HTMLModel",
            "_view_count": null,
            "_view_module": "@jupyter-widgets/controls",
            "_view_module_version": "1.5.0",
            "_view_name": "HTMLView",
            "description": "",
            "description_tooltip": null,
            "layout": "IPY_MODEL_60c347a469cc4831b781a695ce16e8e1",
            "placeholder": "​",
            "style": "IPY_MODEL_fb0a6392de2a410bb0164d37c5eb4818",
            "value": " 648/648 [00:00&lt;00:00, 38.2kB/s]"
          }
        },
        "f56aebe116c94232bedc500985f292f9": {
          "model_module": "@jupyter-widgets/base",
          "model_module_version": "1.2.0",
          "model_name": "LayoutModel",
          "state": {
            "_model_module": "@jupyter-widgets/base",
            "_model_module_version": "1.2.0",
            "_model_name": "LayoutModel",
            "_view_count": null,
            "_view_module": "@jupyter-widgets/base",
            "_view_module_version": "1.2.0",
            "_view_name": "LayoutView",
            "align_content": null,
            "align_items": null,
            "align_self": null,
            "border": null,
            "bottom": null,
            "display": null,
            "flex": null,
            "flex_flow": null,
            "grid_area": null,
            "grid_auto_columns": null,
            "grid_auto_flow": null,
            "grid_auto_rows": null,
            "grid_column": null,
            "grid_gap": null,
            "grid_row": null,
            "grid_template_areas": null,
            "grid_template_columns": null,
            "grid_template_rows": null,
            "height": null,
            "justify_content": null,
            "justify_items": null,
            "left": null,
            "margin": null,
            "max_height": null,
            "max_width": null,
            "min_height": null,
            "min_width": null,
            "object_fit": null,
            "object_position": null,
            "order": null,
            "overflow": null,
            "overflow_x": null,
            "overflow_y": null,
            "padding": null,
            "right": null,
            "top": null,
            "visibility": null,
            "width": null
          }
        },
        "fb0a6392de2a410bb0164d37c5eb4818": {
          "model_module": "@jupyter-widgets/controls",
          "model_module_version": "1.5.0",
          "model_name": "DescriptionStyleModel",
          "state": {
            "_model_module": "@jupyter-widgets/controls",
            "_model_module_version": "1.5.0",
            "_model_name": "DescriptionStyleModel",
            "_view_count": null,
            "_view_module": "@jupyter-widgets/base",
            "_view_module_version": "1.2.0",
            "_view_name": "StyleView",
            "description_width": ""
          }
        },
        "fba6ca2a62894d1bb64f3163671191b1": {
          "model_module": "@jupyter-widgets/controls",
          "model_module_version": "1.5.0",
          "model_name": "HTMLModel",
          "state": {
            "_dom_classes": [],
            "_model_module": "@jupyter-widgets/controls",
            "_model_module_version": "1.5.0",
            "_model_name": "HTMLModel",
            "_view_count": null,
            "_view_module": "@jupyter-widgets/controls",
            "_view_module_version": "1.5.0",
            "_view_name": "HTMLView",
            "description": "",
            "description_tooltip": null,
            "layout": "IPY_MODEL_95d18d7961d5462ab8dc3442a08b37e7",
            "placeholder": "​",
            "style": "IPY_MODEL_19db9279676a4a09b0be9231bf46df79",
            "value": "config.json: 100%"
          }
        }
      }
    }
  },
  "nbformat": 4,
  "nbformat_minor": 5
}
